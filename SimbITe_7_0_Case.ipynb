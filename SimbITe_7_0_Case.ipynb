{
  "nbformat": 4,
  "nbformat_minor": 0,
  "metadata": {
    "colab": {
      "name": "SimbITe 7.0 Case.ipynb",
      "provenance": [],
      "collapsed_sections": []
    },
    "kernelspec": {
      "name": "python3",
      "display_name": "Python 3"
    }
  },
  "cells": [
    {
      "cell_type": "markdown",
      "metadata": {
        "id": "pUW0YVgTcxoj"
      },
      "source": [
        "### Importing the file and the neccecary libraries"
      ]
    },
    {
      "cell_type": "markdown",
      "metadata": {
        "id": "GAg8jwlEON7v"
      },
      "source": [
        ""
      ]
    },
    {
      "cell_type": "code",
      "metadata": {
        "id": "BC2BbsXnN0TK"
      },
      "source": [
        "import pandas as pd #for reading and manuplating  file\n",
        "import numpy as np #for manuplating the arrays and performing mathematical functions on them\n",
        "import math #For basic maths operations\n",
        "import datetime #to work with dates in data\n",
        "import seaborn as sns #to visualize\n",
        "import matplotlib as plt #to visualize\n",
        "import matplotlib.pyplot as plt \n",
        "from sklearn.linear_model import LinearRegression"
      ],
      "execution_count": null,
      "outputs": []
    },
    {
      "cell_type": "markdown",
      "metadata": {
        "id": "hTnS8fAjc9VD"
      },
      "source": [
        "### Exploring the file and its data types and cleaning the data"
      ]
    },
    {
      "cell_type": "code",
      "metadata": {
        "id": "Wk3eBQ6bYgl3"
      },
      "source": [
        "df = pd.read_excel('/content/SimbITe 7.0 Data.xlsx') #importing the excel file"
      ],
      "execution_count": null,
      "outputs": []
    },
    {
      "cell_type": "code",
      "metadata": {
        "colab": {
          "base_uri": "https://localhost:8080/",
          "height": 330
        },
        "id": "44GdsXVBOaLk",
        "outputId": "fd40e2fe-e5f5-4ed6-ebbe-5f301d174e85"
      },
      "source": [
        "df.head(5) #displaying the first five columns of tha data file"
      ],
      "execution_count": null,
      "outputs": [
        {
          "output_type": "execute_result",
          "data": {
            "text/html": [
              "<div>\n",
              "<style scoped>\n",
              "    .dataframe tbody tr th:only-of-type {\n",
              "        vertical-align: middle;\n",
              "    }\n",
              "\n",
              "    .dataframe tbody tr th {\n",
              "        vertical-align: top;\n",
              "    }\n",
              "\n",
              "    .dataframe thead th {\n",
              "        text-align: right;\n",
              "    }\n",
              "</style>\n",
              "<table border=\"1\" class=\"dataframe\">\n",
              "  <thead>\n",
              "    <tr style=\"text-align: right;\">\n",
              "      <th></th>\n",
              "      <th>Takeoff Date</th>\n",
              "      <th>Takeoff Time</th>\n",
              "      <th>Average Ticket Price (Economy Class)</th>\n",
              "      <th>Average Ticket Price (Premium Class)</th>\n",
              "      <th>Cancelled</th>\n",
              "      <th>Carrier</th>\n",
              "      <th>Origin</th>\n",
              "      <th>Origin Weather</th>\n",
              "      <th>Distance (Miles)</th>\n",
              "      <th>Flight Delay</th>\n",
              "      <th>Flight Delay (Min)</th>\n",
              "      <th>Flight Number</th>\n",
              "      <th>Destination</th>\n",
              "      <th>Destination Weather</th>\n",
              "      <th>Total Flight Time (mins)</th>\n",
              "      <th>Plane Type</th>\n",
              "      <th>Occupancy Rate</th>\n",
              "    </tr>\n",
              "  </thead>\n",
              "  <tbody>\n",
              "    <tr>\n",
              "      <th>0</th>\n",
              "      <td>2077-11-28</td>\n",
              "      <td>16:37:01</td>\n",
              "      <td>30992.5</td>\n",
              "      <td>137060.00</td>\n",
              "      <td>False</td>\n",
              "      <td>ALPHABET</td>\n",
              "      <td>Kolkata</td>\n",
              "      <td>Heavy Rain</td>\n",
              "      <td>559</td>\n",
              "      <td>0.0</td>\n",
              "      <td>0</td>\n",
              "      <td>AL-9002</td>\n",
              "      <td>Shillong</td>\n",
              "      <td>Clear</td>\n",
              "      <td>56.0</td>\n",
              "      <td>SN490</td>\n",
              "      <td>0.84</td>\n",
              "    </tr>\n",
              "    <tr>\n",
              "      <th>1</th>\n",
              "      <td>2077-11-23</td>\n",
              "      <td>17:47:54</td>\n",
              "      <td>9128.0</td>\n",
              "      <td>86103.50</td>\n",
              "      <td>False</td>\n",
              "      <td>ALPHABET</td>\n",
              "      <td>Udaipur</td>\n",
              "      <td>Clear</td>\n",
              "      <td>1090</td>\n",
              "      <td>0.0</td>\n",
              "      <td>0</td>\n",
              "      <td>AL-7396</td>\n",
              "      <td>Trichy</td>\n",
              "      <td>Foggy</td>\n",
              "      <td>139.0</td>\n",
              "      <td>A948</td>\n",
              "      <td>0.89</td>\n",
              "    </tr>\n",
              "    <tr>\n",
              "      <th>2</th>\n",
              "      <td>2077-06-05</td>\n",
              "      <td>08:36:29</td>\n",
              "      <td>35866.6</td>\n",
              "      <td>164321.15</td>\n",
              "      <td>False</td>\n",
              "      <td>BANANA</td>\n",
              "      <td>Ahmedabad</td>\n",
              "      <td>Overcast</td>\n",
              "      <td>959</td>\n",
              "      <td>0.0</td>\n",
              "      <td>0</td>\n",
              "      <td>BA-3941</td>\n",
              "      <td>Bengaluru</td>\n",
              "      <td>Clear</td>\n",
              "      <td>120.0</td>\n",
              "      <td>A948</td>\n",
              "      <td>0.89</td>\n",
              "    </tr>\n",
              "    <tr>\n",
              "      <th>3</th>\n",
              "      <td>2077-04-27</td>\n",
              "      <td>14:27:27</td>\n",
              "      <td>31801.0</td>\n",
              "      <td>120228.50</td>\n",
              "      <td>False</td>\n",
              "      <td>AIRAMAZON</td>\n",
              "      <td>Shillong</td>\n",
              "      <td>Overcast</td>\n",
              "      <td>708</td>\n",
              "      <td>0.0</td>\n",
              "      <td>0</td>\n",
              "      <td>AI-9119</td>\n",
              "      <td>Bengaluru</td>\n",
              "      <td>Cloudy</td>\n",
              "      <td>63.0</td>\n",
              "      <td>SN490</td>\n",
              "      <td>0.95</td>\n",
              "    </tr>\n",
              "    <tr>\n",
              "      <th>4</th>\n",
              "      <td>2077-08-01</td>\n",
              "      <td>05:17:36</td>\n",
              "      <td>74232.9</td>\n",
              "      <td>113713.60</td>\n",
              "      <td>False</td>\n",
              "      <td>VIP</td>\n",
              "      <td>Lucknow</td>\n",
              "      <td>Cloudy</td>\n",
              "      <td>1959</td>\n",
              "      <td>0.0</td>\n",
              "      <td>0</td>\n",
              "      <td>VI-5208</td>\n",
              "      <td>Trichy</td>\n",
              "      <td>Clear</td>\n",
              "      <td>220.0</td>\n",
              "      <td>A960</td>\n",
              "      <td>0.93</td>\n",
              "    </tr>\n",
              "  </tbody>\n",
              "</table>\n",
              "</div>"
            ],
            "text/plain": [
              "  Takeoff Date Takeoff Time  ...  Plane Type  Occupancy Rate\n",
              "0   2077-11-28     16:37:01  ...       SN490            0.84\n",
              "1   2077-11-23     17:47:54  ...        A948            0.89\n",
              "2   2077-06-05     08:36:29  ...        A948            0.89\n",
              "3   2077-04-27     14:27:27  ...       SN490            0.95\n",
              "4   2077-08-01     05:17:36  ...        A960            0.93\n",
              "\n",
              "[5 rows x 17 columns]"
            ]
          },
          "metadata": {
            "tags": []
          },
          "execution_count": 5
        }
      ]
    },
    {
      "cell_type": "code",
      "metadata": {
        "colab": {
          "base_uri": "https://localhost:8080/"
        },
        "id": "i0pi7XbJOl26",
        "outputId": "c3fb255d-fa4f-4b8c-8b15-f26d05a3467e"
      },
      "source": [
        "df.dtypes #knowing the data types of all the columns"
      ],
      "execution_count": null,
      "outputs": [
        {
          "output_type": "execute_result",
          "data": {
            "text/plain": [
              "Takeoff Date                            datetime64[ns]\n",
              "Takeoff Time                                    object\n",
              "Average Ticket Price (Economy Class)           float64\n",
              "Average Ticket Price (Premium Class)           float64\n",
              "Cancelled                                         bool\n",
              "Carrier                                         object\n",
              "Origin                                          object\n",
              "Origin Weather                                  object\n",
              "Distance (Miles)                                 int64\n",
              "Flight Delay                                   float64\n",
              "Flight Delay (Min)                               int64\n",
              "Flight Number                                   object\n",
              "Destination                                     object\n",
              "Destination Weather                             object\n",
              "Total Flight Time (mins)                       float64\n",
              "Plane Type                                      object\n",
              "Occupancy Rate                                 float64\n",
              "dtype: object"
            ]
          },
          "metadata": {
            "tags": []
          },
          "execution_count": 7
        }
      ]
    },
    {
      "cell_type": "code",
      "metadata": {
        "colab": {
          "base_uri": "https://localhost:8080/"
        },
        "id": "LecIvKjiOqrp",
        "outputId": "7573d649-cfba-4528-851c-515f85f64777"
      },
      "source": [
        "df.isnull().sum() #checking if there are  null values present in the data"
      ],
      "execution_count": null,
      "outputs": [
        {
          "output_type": "execute_result",
          "data": {
            "text/plain": [
              "Takeoff Date                              0\n",
              "Takeoff Time                              0\n",
              "Average Ticket Price (Economy Class)      0\n",
              "Average Ticket Price (Premium Class)      0\n",
              "Cancelled                                 0\n",
              "Carrier                                   0\n",
              "Origin                                    0\n",
              "Origin Weather                            0\n",
              "Distance (Miles)                          0\n",
              "Flight Delay                            419\n",
              "Flight Delay (Min)                        0\n",
              "Flight Number                             0\n",
              "Destination                               0\n",
              "Destination Weather                       0\n",
              "Total Flight Time (mins)                419\n",
              "Plane Type                                0\n",
              "Occupancy Rate                            0\n",
              "dtype: int64"
            ]
          },
          "metadata": {
            "tags": []
          },
          "execution_count": 8
        }
      ]
    },
    {
      "cell_type": "code",
      "metadata": {
        "id": "9IXKWv1HS192"
      },
      "source": [
        "df['Flight Delay'] = df['Flight Delay'].fillna(0) \n",
        "#replacing null values of flight delay by 0"
      ],
      "execution_count": null,
      "outputs": []
    },
    {
      "cell_type": "code",
      "metadata": {
        "id": "o_8HjAY9TO9k"
      },
      "source": [
        " \n",
        "df = df.dropna() #removing null values"
      ],
      "execution_count": null,
      "outputs": []
    },
    {
      "cell_type": "code",
      "metadata": {
        "colab": {
          "base_uri": "https://localhost:8080/"
        },
        "id": "9VWI4lG4PQqC",
        "outputId": "212dab89-8984-4e22-d693-ccdcefd5ff1f"
      },
      "source": [
        "df['Takeoff Time'].head(5) #displaying the first five values of column Takeoff Time"
      ],
      "execution_count": null,
      "outputs": [
        {
          "output_type": "execute_result",
          "data": {
            "text/plain": [
              "0    16:37:01\n",
              "1    17:47:54\n",
              "2    08:36:29\n",
              "3    14:27:27\n",
              "4    05:17:36\n",
              "Name: Takeoff Time, dtype: object"
            ]
          },
          "metadata": {
            "tags": []
          },
          "execution_count": 11
        }
      ]
    },
    {
      "cell_type": "code",
      "metadata": {
        "id": "rXwNWgLoR_fI",
        "colab": {
          "base_uri": "https://localhost:8080/",
          "height": 462
        },
        "outputId": "9b4ae0c6-1bd4-492e-b087-a122b6bada42"
      },
      "source": [
        "\n",
        "df['Takeoff Date'] = df['Takeoff Date'].astype(str) #changing the data type of takeoff date column to string\n",
        "df['Takeoff Time'] = df['Takeoff Time'].astype(str)#changing the data type of column takeoff time to string\n",
        "df['Takeoff Date Time'] = df['Takeoff Date']+\" \"+df['Takeoff Time']#combining the two columns into one column known as takeoff date time\n",
        "df['Takeoff Date Time'] = df['Takeoff Date Time'].astype(\"<M8[ns]\") #converting dta type of new column to datetime \n",
        "df.head(5)"
      ],
      "execution_count": null,
      "outputs": [
        {
          "output_type": "execute_result",
          "data": {
            "text/html": [
              "<div>\n",
              "<style scoped>\n",
              "    .dataframe tbody tr th:only-of-type {\n",
              "        vertical-align: middle;\n",
              "    }\n",
              "\n",
              "    .dataframe tbody tr th {\n",
              "        vertical-align: top;\n",
              "    }\n",
              "\n",
              "    .dataframe thead th {\n",
              "        text-align: right;\n",
              "    }\n",
              "</style>\n",
              "<table border=\"1\" class=\"dataframe\">\n",
              "  <thead>\n",
              "    <tr style=\"text-align: right;\">\n",
              "      <th></th>\n",
              "      <th>Takeoff Date</th>\n",
              "      <th>Takeoff Time</th>\n",
              "      <th>Average Ticket Price (Economy Class)</th>\n",
              "      <th>Average Ticket Price (Premium Class)</th>\n",
              "      <th>Cancelled</th>\n",
              "      <th>Carrier</th>\n",
              "      <th>Origin</th>\n",
              "      <th>Origin Weather</th>\n",
              "      <th>Distance (Miles)</th>\n",
              "      <th>Flight Delay</th>\n",
              "      <th>Flight Delay (Min)</th>\n",
              "      <th>Flight Number</th>\n",
              "      <th>Destination</th>\n",
              "      <th>Destination Weather</th>\n",
              "      <th>Total Flight Time (mins)</th>\n",
              "      <th>Plane Type</th>\n",
              "      <th>Occupancy Rate</th>\n",
              "      <th>Takeoff Date Time</th>\n",
              "    </tr>\n",
              "  </thead>\n",
              "  <tbody>\n",
              "    <tr>\n",
              "      <th>0</th>\n",
              "      <td>2077-11-28</td>\n",
              "      <td>16:37:01</td>\n",
              "      <td>30992.5</td>\n",
              "      <td>137060.00</td>\n",
              "      <td>False</td>\n",
              "      <td>ALPHABET</td>\n",
              "      <td>Kolkata</td>\n",
              "      <td>Heavy Rain</td>\n",
              "      <td>559</td>\n",
              "      <td>0.0</td>\n",
              "      <td>0</td>\n",
              "      <td>AL-9002</td>\n",
              "      <td>Shillong</td>\n",
              "      <td>Clear</td>\n",
              "      <td>56.0</td>\n",
              "      <td>SN490</td>\n",
              "      <td>0.84</td>\n",
              "      <td>2077-11-28 16:37:01</td>\n",
              "    </tr>\n",
              "    <tr>\n",
              "      <th>1</th>\n",
              "      <td>2077-11-23</td>\n",
              "      <td>17:47:54</td>\n",
              "      <td>9128.0</td>\n",
              "      <td>86103.50</td>\n",
              "      <td>False</td>\n",
              "      <td>ALPHABET</td>\n",
              "      <td>Udaipur</td>\n",
              "      <td>Clear</td>\n",
              "      <td>1090</td>\n",
              "      <td>0.0</td>\n",
              "      <td>0</td>\n",
              "      <td>AL-7396</td>\n",
              "      <td>Trichy</td>\n",
              "      <td>Foggy</td>\n",
              "      <td>139.0</td>\n",
              "      <td>A948</td>\n",
              "      <td>0.89</td>\n",
              "      <td>2077-11-23 17:47:54</td>\n",
              "    </tr>\n",
              "    <tr>\n",
              "      <th>2</th>\n",
              "      <td>2077-06-05</td>\n",
              "      <td>08:36:29</td>\n",
              "      <td>35866.6</td>\n",
              "      <td>164321.15</td>\n",
              "      <td>False</td>\n",
              "      <td>BANANA</td>\n",
              "      <td>Ahmedabad</td>\n",
              "      <td>Overcast</td>\n",
              "      <td>959</td>\n",
              "      <td>0.0</td>\n",
              "      <td>0</td>\n",
              "      <td>BA-3941</td>\n",
              "      <td>Bengaluru</td>\n",
              "      <td>Clear</td>\n",
              "      <td>120.0</td>\n",
              "      <td>A948</td>\n",
              "      <td>0.89</td>\n",
              "      <td>2077-06-05 08:36:29</td>\n",
              "    </tr>\n",
              "    <tr>\n",
              "      <th>3</th>\n",
              "      <td>2077-04-27</td>\n",
              "      <td>14:27:27</td>\n",
              "      <td>31801.0</td>\n",
              "      <td>120228.50</td>\n",
              "      <td>False</td>\n",
              "      <td>AIRAMAZON</td>\n",
              "      <td>Shillong</td>\n",
              "      <td>Overcast</td>\n",
              "      <td>708</td>\n",
              "      <td>0.0</td>\n",
              "      <td>0</td>\n",
              "      <td>AI-9119</td>\n",
              "      <td>Bengaluru</td>\n",
              "      <td>Cloudy</td>\n",
              "      <td>63.0</td>\n",
              "      <td>SN490</td>\n",
              "      <td>0.95</td>\n",
              "      <td>2077-04-27 14:27:27</td>\n",
              "    </tr>\n",
              "    <tr>\n",
              "      <th>4</th>\n",
              "      <td>2077-08-01</td>\n",
              "      <td>05:17:36</td>\n",
              "      <td>74232.9</td>\n",
              "      <td>113713.60</td>\n",
              "      <td>False</td>\n",
              "      <td>VIP</td>\n",
              "      <td>Lucknow</td>\n",
              "      <td>Cloudy</td>\n",
              "      <td>1959</td>\n",
              "      <td>0.0</td>\n",
              "      <td>0</td>\n",
              "      <td>VI-5208</td>\n",
              "      <td>Trichy</td>\n",
              "      <td>Clear</td>\n",
              "      <td>220.0</td>\n",
              "      <td>A960</td>\n",
              "      <td>0.93</td>\n",
              "      <td>2077-08-01 05:17:36</td>\n",
              "    </tr>\n",
              "  </tbody>\n",
              "</table>\n",
              "</div>"
            ],
            "text/plain": [
              "  Takeoff Date Takeoff Time  ...  Occupancy Rate   Takeoff Date Time\n",
              "0   2077-11-28     16:37:01  ...            0.84 2077-11-28 16:37:01\n",
              "1   2077-11-23     17:47:54  ...            0.89 2077-11-23 17:47:54\n",
              "2   2077-06-05     08:36:29  ...            0.89 2077-06-05 08:36:29\n",
              "3   2077-04-27     14:27:27  ...            0.95 2077-04-27 14:27:27\n",
              "4   2077-08-01     05:17:36  ...            0.93 2077-08-01 05:17:36\n",
              "\n",
              "[5 rows x 18 columns]"
            ]
          },
          "metadata": {
            "tags": []
          },
          "execution_count": 9
        }
      ]
    },
    {
      "cell_type": "code",
      "metadata": {
        "id": "LpYgzNTlgqXk"
      },
      "source": [
        "\n",
        "df = df.drop(['Takeoff Date','Takeoff Time'],axis = 1) #dropping takeoff date and takeoff time columns"
      ],
      "execution_count": null,
      "outputs": []
    },
    {
      "cell_type": "code",
      "metadata": {
        "id": "7GXWh2s3SEjR",
        "colab": {
          "base_uri": "https://localhost:8080/",
          "height": 296
        },
        "outputId": "ef886dac-58bd-4b6b-9524-89fe15c00a07"
      },
      "source": [
        "\n",
        "cols = df.columns.tolist() #converting data frame into list\n",
        "cols = cols[-1:] + cols[:-1] \n",
        "df = df[cols]\n",
        "df.head(5)"
      ],
      "execution_count": null,
      "outputs": [
        {
          "output_type": "execute_result",
          "data": {
            "text/html": [
              "<div>\n",
              "<style scoped>\n",
              "    .dataframe tbody tr th:only-of-type {\n",
              "        vertical-align: middle;\n",
              "    }\n",
              "\n",
              "    .dataframe tbody tr th {\n",
              "        vertical-align: top;\n",
              "    }\n",
              "\n",
              "    .dataframe thead th {\n",
              "        text-align: right;\n",
              "    }\n",
              "</style>\n",
              "<table border=\"1\" class=\"dataframe\">\n",
              "  <thead>\n",
              "    <tr style=\"text-align: right;\">\n",
              "      <th></th>\n",
              "      <th>Occupancy Rate</th>\n",
              "      <th>Average Ticket Price (Economy Class)</th>\n",
              "      <th>Average Ticket Price (Premium Class)</th>\n",
              "      <th>Cancelled</th>\n",
              "      <th>Carrier</th>\n",
              "      <th>Origin</th>\n",
              "      <th>Origin Weather</th>\n",
              "      <th>Distance (Miles)</th>\n",
              "      <th>Flight Delay</th>\n",
              "      <th>Flight Delay (Min)</th>\n",
              "      <th>Flight Number</th>\n",
              "      <th>Destination</th>\n",
              "      <th>Destination Weather</th>\n",
              "      <th>Total Flight Time (mins)</th>\n",
              "      <th>Plane Type</th>\n",
              "    </tr>\n",
              "  </thead>\n",
              "  <tbody>\n",
              "    <tr>\n",
              "      <th>0</th>\n",
              "      <td>0.84</td>\n",
              "      <td>30992.5</td>\n",
              "      <td>137060.00</td>\n",
              "      <td>False</td>\n",
              "      <td>ALPHABET</td>\n",
              "      <td>Kolkata</td>\n",
              "      <td>Heavy Rain</td>\n",
              "      <td>559</td>\n",
              "      <td>0.0</td>\n",
              "      <td>0</td>\n",
              "      <td>AL-9002</td>\n",
              "      <td>Shillong</td>\n",
              "      <td>Clear</td>\n",
              "      <td>56.0</td>\n",
              "      <td>SN490</td>\n",
              "    </tr>\n",
              "    <tr>\n",
              "      <th>1</th>\n",
              "      <td>0.89</td>\n",
              "      <td>9128.0</td>\n",
              "      <td>86103.50</td>\n",
              "      <td>False</td>\n",
              "      <td>ALPHABET</td>\n",
              "      <td>Udaipur</td>\n",
              "      <td>Clear</td>\n",
              "      <td>1090</td>\n",
              "      <td>0.0</td>\n",
              "      <td>0</td>\n",
              "      <td>AL-7396</td>\n",
              "      <td>Trichy</td>\n",
              "      <td>Foggy</td>\n",
              "      <td>139.0</td>\n",
              "      <td>A948</td>\n",
              "    </tr>\n",
              "    <tr>\n",
              "      <th>2</th>\n",
              "      <td>0.89</td>\n",
              "      <td>35866.6</td>\n",
              "      <td>164321.15</td>\n",
              "      <td>False</td>\n",
              "      <td>BANANA</td>\n",
              "      <td>Ahmedabad</td>\n",
              "      <td>Overcast</td>\n",
              "      <td>959</td>\n",
              "      <td>0.0</td>\n",
              "      <td>0</td>\n",
              "      <td>BA-3941</td>\n",
              "      <td>Bengaluru</td>\n",
              "      <td>Clear</td>\n",
              "      <td>120.0</td>\n",
              "      <td>A948</td>\n",
              "    </tr>\n",
              "    <tr>\n",
              "      <th>3</th>\n",
              "      <td>0.95</td>\n",
              "      <td>31801.0</td>\n",
              "      <td>120228.50</td>\n",
              "      <td>False</td>\n",
              "      <td>AIRAMAZON</td>\n",
              "      <td>Shillong</td>\n",
              "      <td>Overcast</td>\n",
              "      <td>708</td>\n",
              "      <td>0.0</td>\n",
              "      <td>0</td>\n",
              "      <td>AI-9119</td>\n",
              "      <td>Bengaluru</td>\n",
              "      <td>Cloudy</td>\n",
              "      <td>63.0</td>\n",
              "      <td>SN490</td>\n",
              "    </tr>\n",
              "    <tr>\n",
              "      <th>4</th>\n",
              "      <td>0.93</td>\n",
              "      <td>74232.9</td>\n",
              "      <td>113713.60</td>\n",
              "      <td>False</td>\n",
              "      <td>VIP</td>\n",
              "      <td>Lucknow</td>\n",
              "      <td>Cloudy</td>\n",
              "      <td>1959</td>\n",
              "      <td>0.0</td>\n",
              "      <td>0</td>\n",
              "      <td>VI-5208</td>\n",
              "      <td>Trichy</td>\n",
              "      <td>Clear</td>\n",
              "      <td>220.0</td>\n",
              "      <td>A960</td>\n",
              "    </tr>\n",
              "  </tbody>\n",
              "</table>\n",
              "</div>"
            ],
            "text/plain": [
              "   Occupancy Rate  ...  Plane Type\n",
              "0            0.84  ...       SN490\n",
              "1            0.89  ...        A948\n",
              "2            0.89  ...        A948\n",
              "3            0.95  ...       SN490\n",
              "4            0.93  ...        A960\n",
              "\n",
              "[5 rows x 15 columns]"
            ]
          },
          "metadata": {
            "tags": []
          },
          "execution_count": 13
        }
      ]
    },
    {
      "cell_type": "code",
      "metadata": {
        "colab": {
          "base_uri": "https://localhost:8080/"
        },
        "id": "jZAeO2JlWJFI",
        "outputId": "420d44fe-7c17-415d-b2a1-ed39fa842712"
      },
      "source": [
        "df.dtypes #checking the data types"
      ],
      "execution_count": null,
      "outputs": [
        {
          "output_type": "execute_result",
          "data": {
            "text/plain": [
              "Takeoff Date Time                       datetime64[ns]\n",
              "Average Ticket Price (Economy Class)           float64\n",
              "Average Ticket Price (Premium Class)           float64\n",
              "Cancelled                                         bool\n",
              "Carrier                                         object\n",
              "Origin                                          object\n",
              "Origin Weather                                  object\n",
              "Distance (Miles)                                 int64\n",
              "Flight Delay                                   float64\n",
              "Flight Delay (Min)                               int64\n",
              "Flight Number                                   object\n",
              "Destination                                     object\n",
              "Destination Weather                             object\n",
              "Total Flight Time (mins)                       float64\n",
              "Plane Type                                      object\n",
              "Occupancy Rate                                 float64\n",
              "dtype: object"
            ]
          },
          "metadata": {
            "tags": []
          },
          "execution_count": 12
        }
      ]
    },
    {
      "cell_type": "code",
      "metadata": {
        "colab": {
          "base_uri": "https://localhost:8080/"
        },
        "id": "jnhf8ZtdWXwj",
        "outputId": "abc26dc0-bf25-4d7a-eca9-9b9a9f8d57a5"
      },
      "source": [
        "df.shape  #getting the shape of the dataframe\n"
      ],
      "execution_count": null,
      "outputs": [
        {
          "output_type": "execute_result",
          "data": {
            "text/plain": [
              "(9581, 16)"
            ]
          },
          "metadata": {
            "tags": []
          },
          "execution_count": 13
        }
      ]
    },
    {
      "cell_type": "code",
      "metadata": {
        "colab": {
          "base_uri": "https://localhost:8080/",
          "height": 284
        },
        "id": "cYakCkJaistS",
        "outputId": "ee553793-d684-4283-de12-b7cdfc4061de"
      },
      "source": [
        "df.describe() # describes the data set i.e. gives insights of dataset columns that are numerical\n"
      ],
      "execution_count": null,
      "outputs": [
        {
          "output_type": "execute_result",
          "data": {
            "text/html": [
              "<div>\n",
              "<style scoped>\n",
              "    .dataframe tbody tr th:only-of-type {\n",
              "        vertical-align: middle;\n",
              "    }\n",
              "\n",
              "    .dataframe tbody tr th {\n",
              "        vertical-align: top;\n",
              "    }\n",
              "\n",
              "    .dataframe thead th {\n",
              "        text-align: right;\n",
              "    }\n",
              "</style>\n",
              "<table border=\"1\" class=\"dataframe\">\n",
              "  <thead>\n",
              "    <tr style=\"text-align: right;\">\n",
              "      <th></th>\n",
              "      <th>Occupancy Rate</th>\n",
              "      <th>Average Ticket Price (Economy Class)</th>\n",
              "      <th>Average Ticket Price (Premium Class)</th>\n",
              "      <th>Distance (Miles)</th>\n",
              "      <th>Flight Delay</th>\n",
              "      <th>Flight Delay (Min)</th>\n",
              "      <th>Total Flight Time (mins)</th>\n",
              "    </tr>\n",
              "  </thead>\n",
              "  <tbody>\n",
              "    <tr>\n",
              "      <th>count</th>\n",
              "      <td>9581.000000</td>\n",
              "      <td>9581.000000</td>\n",
              "      <td>9581.000000</td>\n",
              "      <td>9581.000000</td>\n",
              "      <td>9581.000000</td>\n",
              "      <td>9581.000000</td>\n",
              "      <td>9581.000000</td>\n",
              "    </tr>\n",
              "    <tr>\n",
              "      <th>mean</th>\n",
              "      <td>0.850372</td>\n",
              "      <td>38027.290606</td>\n",
              "      <td>110919.411074</td>\n",
              "      <td>1301.318547</td>\n",
              "      <td>0.109592</td>\n",
              "      <td>8.762551</td>\n",
              "      <td>157.225759</td>\n",
              "    </tr>\n",
              "    <tr>\n",
              "      <th>std</th>\n",
              "      <td>0.089593</td>\n",
              "      <td>21228.054532</td>\n",
              "      <td>35191.385523</td>\n",
              "      <td>526.605365</td>\n",
              "      <td>0.312397</td>\n",
              "      <td>28.461520</td>\n",
              "      <td>67.715977</td>\n",
              "    </tr>\n",
              "    <tr>\n",
              "      <th>min</th>\n",
              "      <td>0.700000</td>\n",
              "      <td>8750.000000</td>\n",
              "      <td>56000.000000</td>\n",
              "      <td>517.000000</td>\n",
              "      <td>0.000000</td>\n",
              "      <td>0.000000</td>\n",
              "      <td>39.000000</td>\n",
              "    </tr>\n",
              "    <tr>\n",
              "      <th>25%</th>\n",
              "      <td>0.770000</td>\n",
              "      <td>22463.000000</td>\n",
              "      <td>84420.000000</td>\n",
              "      <td>813.000000</td>\n",
              "      <td>0.000000</td>\n",
              "      <td>0.000000</td>\n",
              "      <td>99.000000</td>\n",
              "    </tr>\n",
              "    <tr>\n",
              "      <th>50%</th>\n",
              "      <td>0.850000</td>\n",
              "      <td>34772.500000</td>\n",
              "      <td>107625.000000</td>\n",
              "      <td>1218.000000</td>\n",
              "      <td>0.000000</td>\n",
              "      <td>0.000000</td>\n",
              "      <td>154.000000</td>\n",
              "    </tr>\n",
              "    <tr>\n",
              "      <th>75%</th>\n",
              "      <td>0.930000</td>\n",
              "      <td>47449.500000</td>\n",
              "      <td>130805.500000</td>\n",
              "      <td>1789.000000</td>\n",
              "      <td>0.000000</td>\n",
              "      <td>0.000000</td>\n",
              "      <td>213.000000</td>\n",
              "    </tr>\n",
              "    <tr>\n",
              "      <th>max</th>\n",
              "      <td>1.000000</td>\n",
              "      <td>129771.250000</td>\n",
              "      <td>237559.700000</td>\n",
              "      <td>2162.000000</td>\n",
              "      <td>1.000000</td>\n",
              "      <td>150.000000</td>\n",
              "      <td>410.000000</td>\n",
              "    </tr>\n",
              "  </tbody>\n",
              "</table>\n",
              "</div>"
            ],
            "text/plain": [
              "       Occupancy Rate  ...  Total Flight Time (mins)\n",
              "count     9581.000000  ...               9581.000000\n",
              "mean         0.850372  ...                157.225759\n",
              "std          0.089593  ...                 67.715977\n",
              "min          0.700000  ...                 39.000000\n",
              "25%          0.770000  ...                 99.000000\n",
              "50%          0.850000  ...                154.000000\n",
              "75%          0.930000  ...                213.000000\n",
              "max          1.000000  ...                410.000000\n",
              "\n",
              "[8 rows x 7 columns]"
            ]
          },
          "metadata": {
            "tags": []
          },
          "execution_count": 14
        }
      ]
    },
    {
      "cell_type": "markdown",
      "metadata": {
        "id": "Dj2JGbHOhgTj"
      },
      "source": [
        "Finding the unique values in each column and then label encoding it to easily find relations"
      ]
    },
    {
      "cell_type": "code",
      "metadata": {
        "colab": {
          "base_uri": "https://localhost:8080/"
        },
        "id": "0xiAcyE7jtA-",
        "outputId": "4765f38d-c87e-41c1-9f18-11df673322d5"
      },
      "source": [
        "df['Flight Number'].unique() #finding unique values in the column flight number"
      ],
      "execution_count": null,
      "outputs": [
        {
          "output_type": "execute_result",
          "data": {
            "text/plain": [
              "array(['AL-9002', 'AL-7396', 'BA-3941', ..., 'ST-6010', 'AI-1783',\n",
              "       'AR-7810'], dtype=object)"
            ]
          },
          "metadata": {
            "tags": []
          },
          "execution_count": 15
        }
      ]
    },
    {
      "cell_type": "code",
      "metadata": {
        "colab": {
          "base_uri": "https://localhost:8080/"
        },
        "id": "wvU0ht9TkG7l",
        "outputId": "3af7d0bb-b3d1-4c71-fcaa-90b19e913555"
      },
      "source": [
        "df['Origin Weather'].unique() #finding unique values in the column origin weather"
      ],
      "execution_count": null,
      "outputs": [
        {
          "output_type": "execute_result",
          "data": {
            "text/plain": [
              "array(['Heavy Rain', 'Clear', 'Overcast', 'Cloudy', 'Rainy',\n",
              "       'Damaging Wind', 'Foggy', 'Storm'], dtype=object)"
            ]
          },
          "metadata": {
            "tags": []
          },
          "execution_count": 16
        }
      ]
    },
    {
      "cell_type": "code",
      "metadata": {
        "colab": {
          "base_uri": "https://localhost:8080/"
        },
        "id": "ZxsHnqJ5lpKh",
        "outputId": "8bc818c3-a8df-42c5-823f-f72e1f68acf6"
      },
      "source": [
        "x = [] #delaring an empty array\n",
        "x = df['Destination Weather'].unique() #storing the unique values of the column destination weather in the array\n",
        "x.sort() #sorting the array\n",
        "print(x) #printing the array\n",
        "print(df['Destination Weather'].unique()) #printing the unique values of the destination weather column"
      ],
      "execution_count": null,
      "outputs": [
        {
          "output_type": "stream",
          "text": [
            "['Clear' 'Cloudy' 'Damaging Wind' 'Foggy' 'Heavy Rain' 'Overcast' 'Rainy'\n",
            " 'Storm']\n",
            "['Clear' 'Foggy' 'Cloudy' 'Rainy' 'Overcast' 'Damaging Wind' 'Heavy Rain'\n",
            " 'Storm']\n"
          ],
          "name": "stdout"
        }
      ]
    },
    {
      "cell_type": "code",
      "metadata": {
        "colab": {
          "base_uri": "https://localhost:8080/"
        },
        "id": "kNXWoxtZmk1M",
        "outputId": "f5e3c19a-e3ac-46bf-9bbe-a840c6b248ea"
      },
      "source": [
        "dictionary_for_weather = {\n",
        "    'Clear' : 0,\n",
        "    'Cloudy' : 1,\n",
        "    'Damaging Wind' : 2,\n",
        "    'Foggy' : 3,\n",
        "    'Heavy Rain' : 4,\n",
        "    'Overcast' : 5,\n",
        "    'Rainy' : 6,\n",
        "    'Storm' : 7\n",
        "} #creating a dictionary for all the unique values of the the column destination weather with unique keys\n",
        "dictionary_for_weather #printing the dictionary #label encoding"
      ],
      "execution_count": null,
      "outputs": [
        {
          "output_type": "execute_result",
          "data": {
            "text/plain": [
              "{'Clear': 0,\n",
              " 'Cloudy': 1,\n",
              " 'Damaging Wind': 2,\n",
              " 'Foggy': 3,\n",
              " 'Heavy Rain': 4,\n",
              " 'Overcast': 5,\n",
              " 'Rainy': 6,\n",
              " 'Storm': 7}"
            ]
          },
          "metadata": {
            "tags": []
          },
          "execution_count": 15
        }
      ]
    },
    {
      "cell_type": "code",
      "metadata": {
        "colab": {
          "base_uri": "https://localhost:8080/"
        },
        "id": "w9AcDQtilu1u",
        "outputId": "98dadb36-24bd-4d2a-c1b7-f233e27a638f"
      },
      "source": [
        "print(df['Destination Weather'].unique()) #finding the unique values of column destination weather\n",
        "print(df['Origin Weather'].unique()) #finding unque values of column origin weather\n",
        "df['Destination Weather'] = df['Destination Weather'].replace(dictionary_for_weather)  #replacing the values of destination weather with the keys of dictionary_for_weather\n",
        "df['Origin Weather'] = df['Origin Weather'].replace(dictionary_for_weather) #replacing the values of Origin weather with the keys of dictionary_for_weather\n",
        "print(df['Destination Weather'].unique()) #printing the unique values of the new values from the column\n",
        "print(df['Origin Weather'].unique()) #printing the unique values of the new values from the column"
      ],
      "execution_count": null,
      "outputs": [
        {
          "output_type": "stream",
          "text": [
            "['Clear' 'Foggy' 'Cloudy' 'Rainy' 'Overcast' 'Damaging Wind' 'Heavy Rain'\n",
            " 'Storm']\n",
            "['Heavy Rain' 'Clear' 'Overcast' 'Cloudy' 'Rainy' 'Damaging Wind' 'Foggy'\n",
            " 'Storm']\n",
            "[0 3 1 6 5 2 4 7]\n",
            "[4 0 5 1 6 2 3 7]\n"
          ],
          "name": "stdout"
        }
      ]
    },
    {
      "cell_type": "code",
      "metadata": {
        "colab": {
          "base_uri": "https://localhost:8080/",
          "height": 462
        },
        "id": "bQErN7x1sWHJ",
        "outputId": "24d641ae-2d88-4fa7-b90c-be411e25a3b0"
      },
      "source": [
        "df.head(5) #printing the first five rows to see the output and changes"
      ],
      "execution_count": null,
      "outputs": [
        {
          "output_type": "execute_result",
          "data": {
            "text/html": [
              "<div>\n",
              "<style scoped>\n",
              "    .dataframe tbody tr th:only-of-type {\n",
              "        vertical-align: middle;\n",
              "    }\n",
              "\n",
              "    .dataframe tbody tr th {\n",
              "        vertical-align: top;\n",
              "    }\n",
              "\n",
              "    .dataframe thead th {\n",
              "        text-align: right;\n",
              "    }\n",
              "</style>\n",
              "<table border=\"1\" class=\"dataframe\">\n",
              "  <thead>\n",
              "    <tr style=\"text-align: right;\">\n",
              "      <th></th>\n",
              "      <th>Takeoff Date Time</th>\n",
              "      <th>Average Ticket Price (Economy Class)</th>\n",
              "      <th>Average Ticket Price (Premium Class)</th>\n",
              "      <th>Cancelled</th>\n",
              "      <th>Carrier</th>\n",
              "      <th>Origin</th>\n",
              "      <th>Origin Weather</th>\n",
              "      <th>Distance (Miles)</th>\n",
              "      <th>Flight Delay</th>\n",
              "      <th>Flight Delay (Min)</th>\n",
              "      <th>Flight Number</th>\n",
              "      <th>Destination</th>\n",
              "      <th>Destination Weather</th>\n",
              "      <th>Total Flight Time (mins)</th>\n",
              "      <th>Plane Type</th>\n",
              "      <th>Occupancy Rate</th>\n",
              "    </tr>\n",
              "  </thead>\n",
              "  <tbody>\n",
              "    <tr>\n",
              "      <th>0</th>\n",
              "      <td>2077-11-28 16:37:01</td>\n",
              "      <td>30992.5</td>\n",
              "      <td>137060.00</td>\n",
              "      <td>False</td>\n",
              "      <td>ALPHABET</td>\n",
              "      <td>Kolkata</td>\n",
              "      <td>4</td>\n",
              "      <td>559</td>\n",
              "      <td>0.0</td>\n",
              "      <td>0</td>\n",
              "      <td>AL-9002</td>\n",
              "      <td>Shillong</td>\n",
              "      <td>0</td>\n",
              "      <td>56.0</td>\n",
              "      <td>SN490</td>\n",
              "      <td>0.84</td>\n",
              "    </tr>\n",
              "    <tr>\n",
              "      <th>1</th>\n",
              "      <td>2077-11-23 17:47:54</td>\n",
              "      <td>9128.0</td>\n",
              "      <td>86103.50</td>\n",
              "      <td>False</td>\n",
              "      <td>ALPHABET</td>\n",
              "      <td>Udaipur</td>\n",
              "      <td>0</td>\n",
              "      <td>1090</td>\n",
              "      <td>0.0</td>\n",
              "      <td>0</td>\n",
              "      <td>AL-7396</td>\n",
              "      <td>Trichy</td>\n",
              "      <td>3</td>\n",
              "      <td>139.0</td>\n",
              "      <td>A948</td>\n",
              "      <td>0.89</td>\n",
              "    </tr>\n",
              "    <tr>\n",
              "      <th>2</th>\n",
              "      <td>2077-06-05 08:36:29</td>\n",
              "      <td>35866.6</td>\n",
              "      <td>164321.15</td>\n",
              "      <td>False</td>\n",
              "      <td>BANANA</td>\n",
              "      <td>Ahmedabad</td>\n",
              "      <td>5</td>\n",
              "      <td>959</td>\n",
              "      <td>0.0</td>\n",
              "      <td>0</td>\n",
              "      <td>BA-3941</td>\n",
              "      <td>Bengaluru</td>\n",
              "      <td>0</td>\n",
              "      <td>120.0</td>\n",
              "      <td>A948</td>\n",
              "      <td>0.89</td>\n",
              "    </tr>\n",
              "    <tr>\n",
              "      <th>3</th>\n",
              "      <td>2077-04-27 14:27:27</td>\n",
              "      <td>31801.0</td>\n",
              "      <td>120228.50</td>\n",
              "      <td>False</td>\n",
              "      <td>AIRAMAZON</td>\n",
              "      <td>Shillong</td>\n",
              "      <td>5</td>\n",
              "      <td>708</td>\n",
              "      <td>0.0</td>\n",
              "      <td>0</td>\n",
              "      <td>AI-9119</td>\n",
              "      <td>Bengaluru</td>\n",
              "      <td>1</td>\n",
              "      <td>63.0</td>\n",
              "      <td>SN490</td>\n",
              "      <td>0.95</td>\n",
              "    </tr>\n",
              "    <tr>\n",
              "      <th>4</th>\n",
              "      <td>2077-08-01 05:17:36</td>\n",
              "      <td>74232.9</td>\n",
              "      <td>113713.60</td>\n",
              "      <td>False</td>\n",
              "      <td>VIP</td>\n",
              "      <td>Lucknow</td>\n",
              "      <td>1</td>\n",
              "      <td>1959</td>\n",
              "      <td>0.0</td>\n",
              "      <td>0</td>\n",
              "      <td>VI-5208</td>\n",
              "      <td>Trichy</td>\n",
              "      <td>0</td>\n",
              "      <td>220.0</td>\n",
              "      <td>A960</td>\n",
              "      <td>0.93</td>\n",
              "    </tr>\n",
              "  </tbody>\n",
              "</table>\n",
              "</div>"
            ],
            "text/plain": [
              "    Takeoff Date Time  ...  Occupancy Rate\n",
              "0 2077-11-28 16:37:01  ...            0.84\n",
              "1 2077-11-23 17:47:54  ...            0.89\n",
              "2 2077-06-05 08:36:29  ...            0.89\n",
              "3 2077-04-27 14:27:27  ...            0.95\n",
              "4 2077-08-01 05:17:36  ...            0.93\n",
              "\n",
              "[5 rows x 16 columns]"
            ]
          },
          "metadata": {
            "tags": []
          },
          "execution_count": 20
        }
      ]
    },
    {
      "cell_type": "code",
      "metadata": {
        "colab": {
          "base_uri": "https://localhost:8080/"
        },
        "id": "jdVs3BzstpAV",
        "outputId": "4808cf94-bb6e-4425-9200-5d5502161b13"
      },
      "source": [
        "df['Destination'].unique() #finding the unique values of the column destination"
      ],
      "execution_count": null,
      "outputs": [
        {
          "output_type": "execute_result",
          "data": {
            "text/plain": [
              "array(['Shillong', 'Trichy', 'Bengaluru', 'Kozhikode', 'Udaipur',\n",
              "       'Kashipur', 'Kolkata', 'Lucknow', 'Indore', 'Ahmedabad', 'Raipur',\n",
              "       'Ranchi'], dtype=object)"
            ]
          },
          "metadata": {
            "tags": []
          },
          "execution_count": 17
        }
      ]
    },
    {
      "cell_type": "code",
      "metadata": {
        "colab": {
          "base_uri": "https://localhost:8080/"
        },
        "id": "56fyXbCuttM0",
        "outputId": "72dc0799-1a43-4c7a-cc2b-5d935420b45d"
      },
      "source": [
        "from sklearn import preprocessing \n",
        "label_encoder = preprocessing.LabelEncoder()   \n",
        "df['Destination encoded']= label_encoder.fit_transform(df['Destination'])  #assigning unque values to all the values of the column destination encoded\n",
        "  \n",
        "df['Destination encoded'].unique()  #printing the unique values from the new values of the column"
      ],
      "execution_count": null,
      "outputs": [
        {
          "output_type": "execute_result",
          "data": {
            "text/plain": [
              "array([ 9, 10,  1,  5, 11,  3,  4,  6,  2,  0,  7,  8])"
            ]
          },
          "metadata": {
            "tags": []
          },
          "execution_count": 18
        }
      ]
    },
    {
      "cell_type": "code",
      "metadata": {
        "colab": {
          "base_uri": "https://localhost:8080/"
        },
        "id": "c7BbZV0nxuAs",
        "outputId": "284eaa6c-e31e-4514-9d32-6edae234bc9e"
      },
      "source": [
        "df['Origin encoded']= label_encoder.fit_transform(df['Origin']) #assigning unque encoded values to all the values of the column origin encoded\n",
        "  \n",
        "df['Origin encoded'].unique() #printing the unique values from the new values of the column"
      ],
      "execution_count": null,
      "outputs": [
        {
          "output_type": "execute_result",
          "data": {
            "text/plain": [
              "array([ 4, 11,  0,  9,  6,  8,  1,  7,  5,  2, 10,  3])"
            ]
          },
          "metadata": {
            "tags": []
          },
          "execution_count": 23
        }
      ]
    },
    {
      "cell_type": "code",
      "metadata": {
        "colab": {
          "base_uri": "https://localhost:8080/"
        },
        "id": "2PNor58bwrgc",
        "outputId": "3a2282c7-af94-489a-ef7b-e41a8b85a31b"
      },
      "source": [
        "df['Cancelled encoded']= label_encoder.fit_transform(df['Cancelled']) #assigning unque encoded values to all the values of the cancelled encoded\n",
        "  \n",
        "print(df['Cancelled encoded'].unique() ) #printing the unique values from the new values of the column"
      ],
      "execution_count": null,
      "outputs": [
        {
          "output_type": "stream",
          "text": [
            "[0]\n"
          ],
          "name": "stdout"
        }
      ]
    },
    {
      "cell_type": "code",
      "metadata": {
        "colab": {
          "base_uri": "https://localhost:8080/"
        },
        "id": "-kh8GIJcxaXc",
        "outputId": "bef63d86-f354-42ba-af87-acfc2af02379"
      },
      "source": [
        "df['Carrier'].unique() #printing the unique values from the column Carrier"
      ],
      "execution_count": null,
      "outputs": [
        {
          "output_type": "execute_result",
          "data": {
            "text/plain": [
              "array(['ALPHABET', 'BANANA', 'AIRAMAZON', 'VIP', 'SPACEAXE',\n",
              "       'ARCHIPELAGO', 'PEACOCK', 'STELLARCRAFT', 'SEON', 'BIGFALCON'],\n",
              "      dtype=object)"
            ]
          },
          "metadata": {
            "tags": []
          },
          "execution_count": 25
        }
      ]
    },
    {
      "cell_type": "code",
      "metadata": {
        "colab": {
          "base_uri": "https://localhost:8080/"
        },
        "id": "ESGV6r4gxnCe",
        "outputId": "666c0faa-1c7d-43ff-8d97-21c93f7d2a37"
      },
      "source": [
        "df['Carrier encoded']= label_encoder.fit_transform(df['Carrier']) #assigning unque encoded values to all the values of the Carrier encoded\n",
        "  \n",
        "df['Carrier encoded'].unique() #printing the unique values from the new values of the column"
      ],
      "execution_count": null,
      "outputs": [
        {
          "output_type": "execute_result",
          "data": {
            "text/plain": [
              "array([1, 3, 0, 9, 7, 2, 5, 8, 6, 4])"
            ]
          },
          "metadata": {
            "tags": []
          },
          "execution_count": 26
        }
      ]
    },
    {
      "cell_type": "code",
      "metadata": {
        "colab": {
          "base_uri": "https://localhost:8080/"
        },
        "id": "5xc42KBayTZn",
        "outputId": "8a48fbed-275c-443a-d8f2-980faf388927"
      },
      "source": [
        "df['Plane Type encoded']= label_encoder.fit_transform(df['Plane Type']) #assigning unque encoded values to all the values of the Plane Type encoded\n",
        "  \n",
        "df['Plane Type encoded'].unique() #printing the unique values from the new values of the column"
      ],
      "execution_count": null,
      "outputs": [
        {
          "output_type": "execute_result",
          "data": {
            "text/plain": [
              "array([3, 0, 1, 2])"
            ]
          },
          "metadata": {
            "tags": []
          },
          "execution_count": 19
        }
      ]
    },
    {
      "cell_type": "code",
      "metadata": {
        "colab": {
          "base_uri": "https://localhost:8080/",
          "height": 462
        },
        "id": "9Tb-1-jNyYA2",
        "outputId": "a0089522-9946-4b20-f972-75ebf2244946"
      },
      "source": [
        "\n",
        "df.head(5) #printing the first five rows to check the changes"
      ],
      "execution_count": null,
      "outputs": [
        {
          "output_type": "execute_result",
          "data": {
            "text/html": [
              "<div>\n",
              "<style scoped>\n",
              "    .dataframe tbody tr th:only-of-type {\n",
              "        vertical-align: middle;\n",
              "    }\n",
              "\n",
              "    .dataframe tbody tr th {\n",
              "        vertical-align: top;\n",
              "    }\n",
              "\n",
              "    .dataframe thead th {\n",
              "        text-align: right;\n",
              "    }\n",
              "</style>\n",
              "<table border=\"1\" class=\"dataframe\">\n",
              "  <thead>\n",
              "    <tr style=\"text-align: right;\">\n",
              "      <th></th>\n",
              "      <th>Takeoff Date Time</th>\n",
              "      <th>Average Ticket Price (Economy Class)</th>\n",
              "      <th>Average Ticket Price (Premium Class)</th>\n",
              "      <th>Cancelled</th>\n",
              "      <th>Carrier</th>\n",
              "      <th>Origin</th>\n",
              "      <th>Origin Weather</th>\n",
              "      <th>Distance (Miles)</th>\n",
              "      <th>Flight Delay</th>\n",
              "      <th>Flight Delay (Min)</th>\n",
              "      <th>Flight Number</th>\n",
              "      <th>Destination</th>\n",
              "      <th>Destination Weather</th>\n",
              "      <th>Total Flight Time (mins)</th>\n",
              "      <th>Plane Type</th>\n",
              "      <th>Occupancy Rate</th>\n",
              "      <th>Destination encoded</th>\n",
              "      <th>Origin encoded</th>\n",
              "      <th>Cancelled encoded</th>\n",
              "      <th>Carrier encoded</th>\n",
              "      <th>Plane Type encoded</th>\n",
              "    </tr>\n",
              "  </thead>\n",
              "  <tbody>\n",
              "    <tr>\n",
              "      <th>0</th>\n",
              "      <td>2077-11-28 16:37:01</td>\n",
              "      <td>30992.5</td>\n",
              "      <td>137060.00</td>\n",
              "      <td>False</td>\n",
              "      <td>ALPHABET</td>\n",
              "      <td>Kolkata</td>\n",
              "      <td>4</td>\n",
              "      <td>559</td>\n",
              "      <td>0.0</td>\n",
              "      <td>0</td>\n",
              "      <td>AL-9002</td>\n",
              "      <td>Shillong</td>\n",
              "      <td>0</td>\n",
              "      <td>56.0</td>\n",
              "      <td>SN490</td>\n",
              "      <td>0.84</td>\n",
              "      <td>9</td>\n",
              "      <td>4</td>\n",
              "      <td>0</td>\n",
              "      <td>1</td>\n",
              "      <td>3</td>\n",
              "    </tr>\n",
              "    <tr>\n",
              "      <th>1</th>\n",
              "      <td>2077-11-23 17:47:54</td>\n",
              "      <td>9128.0</td>\n",
              "      <td>86103.50</td>\n",
              "      <td>False</td>\n",
              "      <td>ALPHABET</td>\n",
              "      <td>Udaipur</td>\n",
              "      <td>0</td>\n",
              "      <td>1090</td>\n",
              "      <td>0.0</td>\n",
              "      <td>0</td>\n",
              "      <td>AL-7396</td>\n",
              "      <td>Trichy</td>\n",
              "      <td>3</td>\n",
              "      <td>139.0</td>\n",
              "      <td>A948</td>\n",
              "      <td>0.89</td>\n",
              "      <td>10</td>\n",
              "      <td>11</td>\n",
              "      <td>0</td>\n",
              "      <td>1</td>\n",
              "      <td>0</td>\n",
              "    </tr>\n",
              "    <tr>\n",
              "      <th>2</th>\n",
              "      <td>2077-06-05 08:36:29</td>\n",
              "      <td>35866.6</td>\n",
              "      <td>164321.15</td>\n",
              "      <td>False</td>\n",
              "      <td>BANANA</td>\n",
              "      <td>Ahmedabad</td>\n",
              "      <td>5</td>\n",
              "      <td>959</td>\n",
              "      <td>0.0</td>\n",
              "      <td>0</td>\n",
              "      <td>BA-3941</td>\n",
              "      <td>Bengaluru</td>\n",
              "      <td>0</td>\n",
              "      <td>120.0</td>\n",
              "      <td>A948</td>\n",
              "      <td>0.89</td>\n",
              "      <td>1</td>\n",
              "      <td>0</td>\n",
              "      <td>0</td>\n",
              "      <td>3</td>\n",
              "      <td>0</td>\n",
              "    </tr>\n",
              "    <tr>\n",
              "      <th>3</th>\n",
              "      <td>2077-04-27 14:27:27</td>\n",
              "      <td>31801.0</td>\n",
              "      <td>120228.50</td>\n",
              "      <td>False</td>\n",
              "      <td>AIRAMAZON</td>\n",
              "      <td>Shillong</td>\n",
              "      <td>5</td>\n",
              "      <td>708</td>\n",
              "      <td>0.0</td>\n",
              "      <td>0</td>\n",
              "      <td>AI-9119</td>\n",
              "      <td>Bengaluru</td>\n",
              "      <td>1</td>\n",
              "      <td>63.0</td>\n",
              "      <td>SN490</td>\n",
              "      <td>0.95</td>\n",
              "      <td>1</td>\n",
              "      <td>9</td>\n",
              "      <td>0</td>\n",
              "      <td>0</td>\n",
              "      <td>3</td>\n",
              "    </tr>\n",
              "    <tr>\n",
              "      <th>4</th>\n",
              "      <td>2077-08-01 05:17:36</td>\n",
              "      <td>74232.9</td>\n",
              "      <td>113713.60</td>\n",
              "      <td>False</td>\n",
              "      <td>VIP</td>\n",
              "      <td>Lucknow</td>\n",
              "      <td>1</td>\n",
              "      <td>1959</td>\n",
              "      <td>0.0</td>\n",
              "      <td>0</td>\n",
              "      <td>VI-5208</td>\n",
              "      <td>Trichy</td>\n",
              "      <td>0</td>\n",
              "      <td>220.0</td>\n",
              "      <td>A960</td>\n",
              "      <td>0.93</td>\n",
              "      <td>10</td>\n",
              "      <td>6</td>\n",
              "      <td>0</td>\n",
              "      <td>9</td>\n",
              "      <td>1</td>\n",
              "    </tr>\n",
              "  </tbody>\n",
              "</table>\n",
              "</div>"
            ],
            "text/plain": [
              "    Takeoff Date Time  ...  Plane Type encoded\n",
              "0 2077-11-28 16:37:01  ...                   3\n",
              "1 2077-11-23 17:47:54  ...                   0\n",
              "2 2077-06-05 08:36:29  ...                   0\n",
              "3 2077-04-27 14:27:27  ...                   3\n",
              "4 2077-08-01 05:17:36  ...                   1\n",
              "\n",
              "[5 rows x 21 columns]"
            ]
          },
          "metadata": {
            "tags": []
          },
          "execution_count": 28
        }
      ]
    },
    {
      "cell_type": "code",
      "metadata": {
        "colab": {
          "base_uri": "https://localhost:8080/",
          "height": 959
        },
        "id": "xkn-dMhdzhEv",
        "outputId": "2d3e9d29-0cfb-4815-e6de-d98c2cb2ea4e"
      },
      "source": [
        "df.corr() #finding the correlation "
      ],
      "execution_count": null,
      "outputs": [
        {
          "output_type": "execute_result",
          "data": {
            "text/html": [
              "<div>\n",
              "<style scoped>\n",
              "    .dataframe tbody tr th:only-of-type {\n",
              "        vertical-align: middle;\n",
              "    }\n",
              "\n",
              "    .dataframe tbody tr th {\n",
              "        vertical-align: top;\n",
              "    }\n",
              "\n",
              "    .dataframe thead th {\n",
              "        text-align: right;\n",
              "    }\n",
              "</style>\n",
              "<table border=\"1\" class=\"dataframe\">\n",
              "  <thead>\n",
              "    <tr style=\"text-align: right;\">\n",
              "      <th></th>\n",
              "      <th>Average Ticket Price (Economy Class)</th>\n",
              "      <th>Average Ticket Price (Premium Class)</th>\n",
              "      <th>Cancelled</th>\n",
              "      <th>Origin Weather</th>\n",
              "      <th>Distance (Miles)</th>\n",
              "      <th>Flight Delay</th>\n",
              "      <th>Flight Delay (Min)</th>\n",
              "      <th>Destination Weather</th>\n",
              "      <th>Total Flight Time (mins)</th>\n",
              "      <th>Occupancy Rate</th>\n",
              "      <th>Destination encoded</th>\n",
              "      <th>Origin encoded</th>\n",
              "      <th>Cancelled encoded</th>\n",
              "      <th>Carrier encoded</th>\n",
              "      <th>Plane Type encoded</th>\n",
              "    </tr>\n",
              "  </thead>\n",
              "  <tbody>\n",
              "    <tr>\n",
              "      <th>Average Ticket Price (Economy Class)</th>\n",
              "      <td>1.000000</td>\n",
              "      <td>0.303030</td>\n",
              "      <td>NaN</td>\n",
              "      <td>0.011758</td>\n",
              "      <td>-0.005897</td>\n",
              "      <td>-0.001442</td>\n",
              "      <td>-0.001456</td>\n",
              "      <td>-0.000698</td>\n",
              "      <td>-0.009564</td>\n",
              "      <td>-0.001946</td>\n",
              "      <td>-0.018695</td>\n",
              "      <td>0.024517</td>\n",
              "      <td>NaN</td>\n",
              "      <td>-0.007257</td>\n",
              "      <td>0.002402</td>\n",
              "    </tr>\n",
              "    <tr>\n",
              "      <th>Average Ticket Price (Premium Class)</th>\n",
              "      <td>0.303030</td>\n",
              "      <td>1.000000</td>\n",
              "      <td>NaN</td>\n",
              "      <td>0.021384</td>\n",
              "      <td>0.009644</td>\n",
              "      <td>-0.002409</td>\n",
              "      <td>-0.005785</td>\n",
              "      <td>-0.029520</td>\n",
              "      <td>0.002050</td>\n",
              "      <td>0.001337</td>\n",
              "      <td>0.010277</td>\n",
              "      <td>0.018491</td>\n",
              "      <td>NaN</td>\n",
              "      <td>-0.002035</td>\n",
              "      <td>0.000665</td>\n",
              "    </tr>\n",
              "    <tr>\n",
              "      <th>Cancelled</th>\n",
              "      <td>NaN</td>\n",
              "      <td>NaN</td>\n",
              "      <td>NaN</td>\n",
              "      <td>NaN</td>\n",
              "      <td>NaN</td>\n",
              "      <td>NaN</td>\n",
              "      <td>NaN</td>\n",
              "      <td>NaN</td>\n",
              "      <td>NaN</td>\n",
              "      <td>NaN</td>\n",
              "      <td>NaN</td>\n",
              "      <td>NaN</td>\n",
              "      <td>NaN</td>\n",
              "      <td>NaN</td>\n",
              "      <td>NaN</td>\n",
              "    </tr>\n",
              "    <tr>\n",
              "      <th>Origin Weather</th>\n",
              "      <td>0.011758</td>\n",
              "      <td>0.021384</td>\n",
              "      <td>NaN</td>\n",
              "      <td>1.000000</td>\n",
              "      <td>-0.007100</td>\n",
              "      <td>-0.010497</td>\n",
              "      <td>-0.004691</td>\n",
              "      <td>-0.012060</td>\n",
              "      <td>-0.011306</td>\n",
              "      <td>-0.005446</td>\n",
              "      <td>0.019855</td>\n",
              "      <td>-0.002543</td>\n",
              "      <td>NaN</td>\n",
              "      <td>0.006897</td>\n",
              "      <td>0.000660</td>\n",
              "    </tr>\n",
              "    <tr>\n",
              "      <th>Distance (Miles)</th>\n",
              "      <td>-0.005897</td>\n",
              "      <td>0.009644</td>\n",
              "      <td>NaN</td>\n",
              "      <td>-0.007100</td>\n",
              "      <td>1.000000</td>\n",
              "      <td>0.001751</td>\n",
              "      <td>0.006390</td>\n",
              "      <td>0.013392</td>\n",
              "      <td>0.889479</td>\n",
              "      <td>0.007579</td>\n",
              "      <td>0.022342</td>\n",
              "      <td>0.056728</td>\n",
              "      <td>NaN</td>\n",
              "      <td>-0.006592</td>\n",
              "      <td>0.006761</td>\n",
              "    </tr>\n",
              "    <tr>\n",
              "      <th>Flight Delay</th>\n",
              "      <td>-0.001442</td>\n",
              "      <td>-0.002409</td>\n",
              "      <td>NaN</td>\n",
              "      <td>-0.010497</td>\n",
              "      <td>0.001751</td>\n",
              "      <td>1.000000</td>\n",
              "      <td>0.877608</td>\n",
              "      <td>0.001193</td>\n",
              "      <td>0.372051</td>\n",
              "      <td>-0.009063</td>\n",
              "      <td>0.005154</td>\n",
              "      <td>0.014729</td>\n",
              "      <td>NaN</td>\n",
              "      <td>-0.007763</td>\n",
              "      <td>0.001120</td>\n",
              "    </tr>\n",
              "    <tr>\n",
              "      <th>Flight Delay (Min)</th>\n",
              "      <td>-0.001456</td>\n",
              "      <td>-0.005785</td>\n",
              "      <td>NaN</td>\n",
              "      <td>-0.004691</td>\n",
              "      <td>0.006390</td>\n",
              "      <td>0.877608</td>\n",
              "      <td>1.000000</td>\n",
              "      <td>-0.003981</td>\n",
              "      <td>0.428272</td>\n",
              "      <td>-0.010664</td>\n",
              "      <td>0.005757</td>\n",
              "      <td>0.016397</td>\n",
              "      <td>NaN</td>\n",
              "      <td>-0.006520</td>\n",
              "      <td>0.003219</td>\n",
              "    </tr>\n",
              "    <tr>\n",
              "      <th>Destination Weather</th>\n",
              "      <td>-0.000698</td>\n",
              "      <td>-0.029520</td>\n",
              "      <td>NaN</td>\n",
              "      <td>-0.012060</td>\n",
              "      <td>0.013392</td>\n",
              "      <td>0.001193</td>\n",
              "      <td>-0.003981</td>\n",
              "      <td>1.000000</td>\n",
              "      <td>0.008432</td>\n",
              "      <td>0.016353</td>\n",
              "      <td>-0.002984</td>\n",
              "      <td>-0.012725</td>\n",
              "      <td>NaN</td>\n",
              "      <td>-0.016010</td>\n",
              "      <td>0.002046</td>\n",
              "    </tr>\n",
              "    <tr>\n",
              "      <th>Total Flight Time (mins)</th>\n",
              "      <td>-0.009564</td>\n",
              "      <td>0.002050</td>\n",
              "      <td>NaN</td>\n",
              "      <td>-0.011306</td>\n",
              "      <td>0.889479</td>\n",
              "      <td>0.372051</td>\n",
              "      <td>0.428272</td>\n",
              "      <td>0.008432</td>\n",
              "      <td>1.000000</td>\n",
              "      <td>0.000199</td>\n",
              "      <td>0.021325</td>\n",
              "      <td>0.057246</td>\n",
              "      <td>NaN</td>\n",
              "      <td>-0.008322</td>\n",
              "      <td>0.007850</td>\n",
              "    </tr>\n",
              "    <tr>\n",
              "      <th>Occupancy Rate</th>\n",
              "      <td>-0.001946</td>\n",
              "      <td>0.001337</td>\n",
              "      <td>NaN</td>\n",
              "      <td>-0.005446</td>\n",
              "      <td>0.007579</td>\n",
              "      <td>-0.009063</td>\n",
              "      <td>-0.010664</td>\n",
              "      <td>0.016353</td>\n",
              "      <td>0.000199</td>\n",
              "      <td>1.000000</td>\n",
              "      <td>0.002516</td>\n",
              "      <td>-0.003251</td>\n",
              "      <td>NaN</td>\n",
              "      <td>-0.002920</td>\n",
              "      <td>-0.006344</td>\n",
              "    </tr>\n",
              "    <tr>\n",
              "      <th>Destination encoded</th>\n",
              "      <td>-0.018695</td>\n",
              "      <td>0.010277</td>\n",
              "      <td>NaN</td>\n",
              "      <td>0.019855</td>\n",
              "      <td>0.022342</td>\n",
              "      <td>0.005154</td>\n",
              "      <td>0.005757</td>\n",
              "      <td>-0.002984</td>\n",
              "      <td>0.021325</td>\n",
              "      <td>0.002516</td>\n",
              "      <td>1.000000</td>\n",
              "      <td>-0.094237</td>\n",
              "      <td>NaN</td>\n",
              "      <td>-0.013672</td>\n",
              "      <td>0.001744</td>\n",
              "    </tr>\n",
              "    <tr>\n",
              "      <th>Origin encoded</th>\n",
              "      <td>0.024517</td>\n",
              "      <td>0.018491</td>\n",
              "      <td>NaN</td>\n",
              "      <td>-0.002543</td>\n",
              "      <td>0.056728</td>\n",
              "      <td>0.014729</td>\n",
              "      <td>0.016397</td>\n",
              "      <td>-0.012725</td>\n",
              "      <td>0.057246</td>\n",
              "      <td>-0.003251</td>\n",
              "      <td>-0.094237</td>\n",
              "      <td>1.000000</td>\n",
              "      <td>NaN</td>\n",
              "      <td>-0.000059</td>\n",
              "      <td>0.004973</td>\n",
              "    </tr>\n",
              "    <tr>\n",
              "      <th>Cancelled encoded</th>\n",
              "      <td>NaN</td>\n",
              "      <td>NaN</td>\n",
              "      <td>NaN</td>\n",
              "      <td>NaN</td>\n",
              "      <td>NaN</td>\n",
              "      <td>NaN</td>\n",
              "      <td>NaN</td>\n",
              "      <td>NaN</td>\n",
              "      <td>NaN</td>\n",
              "      <td>NaN</td>\n",
              "      <td>NaN</td>\n",
              "      <td>NaN</td>\n",
              "      <td>NaN</td>\n",
              "      <td>NaN</td>\n",
              "      <td>NaN</td>\n",
              "    </tr>\n",
              "    <tr>\n",
              "      <th>Carrier encoded</th>\n",
              "      <td>-0.007257</td>\n",
              "      <td>-0.002035</td>\n",
              "      <td>NaN</td>\n",
              "      <td>0.006897</td>\n",
              "      <td>-0.006592</td>\n",
              "      <td>-0.007763</td>\n",
              "      <td>-0.006520</td>\n",
              "      <td>-0.016010</td>\n",
              "      <td>-0.008322</td>\n",
              "      <td>-0.002920</td>\n",
              "      <td>-0.013672</td>\n",
              "      <td>-0.000059</td>\n",
              "      <td>NaN</td>\n",
              "      <td>1.000000</td>\n",
              "      <td>-0.008398</td>\n",
              "    </tr>\n",
              "    <tr>\n",
              "      <th>Plane Type encoded</th>\n",
              "      <td>0.002402</td>\n",
              "      <td>0.000665</td>\n",
              "      <td>NaN</td>\n",
              "      <td>0.000660</td>\n",
              "      <td>0.006761</td>\n",
              "      <td>0.001120</td>\n",
              "      <td>0.003219</td>\n",
              "      <td>0.002046</td>\n",
              "      <td>0.007850</td>\n",
              "      <td>-0.006344</td>\n",
              "      <td>0.001744</td>\n",
              "      <td>0.004973</td>\n",
              "      <td>NaN</td>\n",
              "      <td>-0.008398</td>\n",
              "      <td>1.000000</td>\n",
              "    </tr>\n",
              "  </tbody>\n",
              "</table>\n",
              "</div>"
            ],
            "text/plain": [
              "                                      Average Ticket Price (Economy Class)  ...  Plane Type encoded\n",
              "Average Ticket Price (Economy Class)                              1.000000  ...            0.002402\n",
              "Average Ticket Price (Premium Class)                              0.303030  ...            0.000665\n",
              "Cancelled                                                              NaN  ...                 NaN\n",
              "Origin Weather                                                    0.011758  ...            0.000660\n",
              "Distance (Miles)                                                 -0.005897  ...            0.006761\n",
              "Flight Delay                                                     -0.001442  ...            0.001120\n",
              "Flight Delay (Min)                                               -0.001456  ...            0.003219\n",
              "Destination Weather                                              -0.000698  ...            0.002046\n",
              "Total Flight Time (mins)                                         -0.009564  ...            0.007850\n",
              "Occupancy Rate                                                   -0.001946  ...           -0.006344\n",
              "Destination encoded                                              -0.018695  ...            0.001744\n",
              "Origin encoded                                                    0.024517  ...            0.004973\n",
              "Cancelled encoded                                                      NaN  ...                 NaN\n",
              "Carrier encoded                                                  -0.007257  ...           -0.008398\n",
              "Plane Type encoded                                                0.002402  ...            1.000000\n",
              "\n",
              "[15 rows x 15 columns]"
            ]
          },
          "metadata": {
            "tags": []
          },
          "execution_count": 29
        }
      ]
    },
    {
      "cell_type": "code",
      "metadata": {
        "colab": {
          "base_uri": "https://localhost:8080/"
        },
        "id": "V2P4HM_Tz0yO",
        "outputId": "b395f852-9ccc-4678-d134-2786a583e354"
      },
      "source": [
        "lis = list(df['Occupancy Rate']) #storing the values of column occupancy rate in a list format in a variable lis\n",
        "lis\n",
        "min(lis) #getting the min value from the list"
      ],
      "execution_count": null,
      "outputs": [
        {
          "output_type": "execute_result",
          "data": {
            "text/plain": [
              "0.7"
            ]
          },
          "metadata": {
            "tags": []
          },
          "execution_count": 30
        }
      ]
    },
    {
      "cell_type": "code",
      "metadata": {
        "colab": {
          "base_uri": "https://localhost:8080/",
          "height": 352
        },
        "id": "3YaPVRe3iHd0",
        "outputId": "92159f08-39fb-45f2-aa3a-c3731cafecb2"
      },
      "source": [
        "sns.barplot(df['Occupancy Rate'],df['Plane Type'])\n",
        "#plotting bar plot of column occupancy rate with plane type column"
      ],
      "execution_count": null,
      "outputs": [
        {
          "output_type": "stream",
          "text": [
            "/usr/local/lib/python3.7/dist-packages/seaborn/_decorators.py:43: FutureWarning: Pass the following variables as keyword args: x, y. From version 0.12, the only valid positional argument will be `data`, and passing other arguments without an explicit keyword will result in an error or misinterpretation.\n",
            "  FutureWarning\n"
          ],
          "name": "stderr"
        },
        {
          "output_type": "execute_result",
          "data": {
            "text/plain": [
              "<matplotlib.axes._subplots.AxesSubplot at 0x7ffa441d6290>"
            ]
          },
          "metadata": {
            "tags": []
          },
          "execution_count": 20
        },
        {
          "output_type": "display_data",
          "data": {
            "image/png": "[encoded data removed]",
            "text/plain": [
              "<Figure size 432x288 with 1 Axes>"
            ]
          },
          "metadata": {
            "tags": [],
            "needs_background": "light"
          }
        }
      ]
    },
    {
      "cell_type": "code",
      "metadata": {
        "id": "de_WJiAGj9_G"
      },
      "source": [
        "\n",
        "df['number of seats'] = df['Plane Type'].apply(lambda x: 600 if x=='A948' else (400 if x=='A960' else(250 if x == 'SN490' else(480 if x=='B666' else \"Nan\"))))\n",
        "#creating a new column in dataframe number of seats from the data type column containing the values 600 for A948 , 400 for A960 , 250 for SN490 , 480 for B666 and otherwise Nan"
      ],
      "execution_count": null,
      "outputs": []
    },
    {
      "cell_type": "code",
      "metadata": {
        "colab": {
          "base_uri": "https://localhost:8080/"
        },
        "id": "gFsRvRglA0ob",
        "outputId": "faf3bc51-94c2-4d88-c356-5221400e4204"
      },
      "source": [
        "\n",
        "df['number of seats'].unique() #finding all the unique values of the df number of seats"
      ],
      "execution_count": null,
      "outputs": [
        {
          "output_type": "execute_result",
          "data": {
            "text/plain": [
              "array([250, 600, 400, 480])"
            ]
          },
          "metadata": {
            "tags": []
          },
          "execution_count": 33
        }
      ]
    },
    {
      "cell_type": "code",
      "metadata": {
        "colab": {
          "base_uri": "https://localhost:8080/",
          "height": 296
        },
        "id": "pcGIJi9rBNIc",
        "outputId": "d5ddd338-07a9-4875-859a-5604f6886a06"
      },
      "source": [
        "\n",
        "df['Planes to be changed'] = df['Occupancy Rate'].apply(lambda x: True if x>=1 else False) #creating a new dataframe Plans to be chnages from occupancy rate containing the values True if x>=1 else false\n",
        "df.loc[(df['Plane Type'] == 'A948') & (df['number of seats'] * df['Occupancy Rate'] <= 480), 'Planes to be changed'] = 'Change plane to B666' #making the row where plane type id A948 and no. of seats*occupancy rate <=480 to chnage plane to B666\n",
        "df.loc[(df['Plane Type'] == 'B666') & (df['number of seats'] * df['Occupancy Rate'] <= 400), 'Planes to be changed'] = 'Change plane to A960' #making the row where plane type id B666 and no. of seats*occupancy rate <=400 to chnage plane to B666\n",
        "df.loc[(df['Plane Type'] == 'A948') & (df['number of seats'] * df['Occupancy Rate'] <= 250), 'Planes to be changed'] = 'Change plane to SN490' #making the row where plane type id A948 and no. of seats*occupancy rate <=480 to chnage plane to B666\n",
        "df.loc[(df['Plane Type'] == 'A948') & (df['Occupancy Rate'] == 1), 'Planes to be changed'] = 'One more flight required' #making the row where plane type id A948 and occupancy rate == 1 to One more flight required\n",
        "df.loc[(df['Plane Type'] == 'SN490') & (df['Occupancy Rate'] == 1), 'Planes to be changed'] = 'Change plane to A960'#making the row where plane type id SN490 and occupancy rate == 1 to Change plane to A960\n",
        "df.loc[(df['Plane Type'] == 'A960') & (df['Occupancy Rate'] == 1), 'Planes to be changed'] = 'Change plane to B666' #making the row where plane type id A960 and occupancy rate == 1 to Change plane to B666\n",
        "df.loc[(df['Plane Type'] == 'B666') & (df['Occupancy Rate'] == 1), 'Planes to be changed'] = 'Change plane to A948' #making the row where plane type id B666 and occupancy rate == 1 to Change plane to A948\n",
        "sns.countplot(y = df['Planes to be changed']) #plotting a countplot with planes to be chnaged"
      ],
      "execution_count": null,
      "outputs": [
        {
          "output_type": "execute_result",
          "data": {
            "text/plain": [
              "<matplotlib.axes._subplots.AxesSubplot at 0x7f20746aaf28>"
            ]
          },
          "metadata": {
            "tags": []
          },
          "execution_count": 34
        },
        {
          "output_type": "display_data",
          "data": {
            "image/png": "[encoded data removed]",
            "text/plain": [
              "<Figure size 432x288 with 1 Axes>"
            ]
          },
          "metadata": {
            "tags": [],
            "needs_background": "light"
          }
        }
      ]
    },
    {
      "cell_type": "code",
      "metadata": {
        "colab": {
          "base_uri": "https://localhost:8080/",
          "height": 462
        },
        "id": "yEJiRfirC1PK",
        "outputId": "ec47fc4d-d169-4bd0-ec05-0b482a060592"
      },
      "source": [
        "\n",
        "df.head(5) #printing the first five rows to check the changes"
      ],
      "execution_count": null,
      "outputs": [
        {
          "output_type": "execute_result",
          "data": {
            "text/html": [
              "<div>\n",
              "<style scoped>\n",
              "    .dataframe tbody tr th:only-of-type {\n",
              "        vertical-align: middle;\n",
              "    }\n",
              "\n",
              "    .dataframe tbody tr th {\n",
              "        vertical-align: top;\n",
              "    }\n",
              "\n",
              "    .dataframe thead th {\n",
              "        text-align: right;\n",
              "    }\n",
              "</style>\n",
              "<table border=\"1\" class=\"dataframe\">\n",
              "  <thead>\n",
              "    <tr style=\"text-align: right;\">\n",
              "      <th></th>\n",
              "      <th>Takeoff Date Time</th>\n",
              "      <th>Average Ticket Price (Economy Class)</th>\n",
              "      <th>Average Ticket Price (Premium Class)</th>\n",
              "      <th>Cancelled</th>\n",
              "      <th>Carrier</th>\n",
              "      <th>Origin</th>\n",
              "      <th>Origin Weather</th>\n",
              "      <th>Distance (Miles)</th>\n",
              "      <th>Flight Delay</th>\n",
              "      <th>Flight Delay (Min)</th>\n",
              "      <th>Flight Number</th>\n",
              "      <th>Destination</th>\n",
              "      <th>Destination Weather</th>\n",
              "      <th>Total Flight Time (mins)</th>\n",
              "      <th>Plane Type</th>\n",
              "      <th>Occupancy Rate</th>\n",
              "      <th>Destination encoded</th>\n",
              "      <th>Origin encoded</th>\n",
              "      <th>Cancelled encoded</th>\n",
              "      <th>Carrier encoded</th>\n",
              "      <th>Plane Type encoded</th>\n",
              "      <th>number of seats</th>\n",
              "      <th>Planes to be changed</th>\n",
              "    </tr>\n",
              "  </thead>\n",
              "  <tbody>\n",
              "    <tr>\n",
              "      <th>0</th>\n",
              "      <td>2077-11-28 16:37:01</td>\n",
              "      <td>30992.5</td>\n",
              "      <td>137060.00</td>\n",
              "      <td>False</td>\n",
              "      <td>ALPHABET</td>\n",
              "      <td>Kolkata</td>\n",
              "      <td>4</td>\n",
              "      <td>559</td>\n",
              "      <td>0.0</td>\n",
              "      <td>0</td>\n",
              "      <td>AL-9002</td>\n",
              "      <td>Shillong</td>\n",
              "      <td>0</td>\n",
              "      <td>56.0</td>\n",
              "      <td>SN490</td>\n",
              "      <td>0.84</td>\n",
              "      <td>9</td>\n",
              "      <td>4</td>\n",
              "      <td>0</td>\n",
              "      <td>1</td>\n",
              "      <td>3</td>\n",
              "      <td>250</td>\n",
              "      <td>False</td>\n",
              "    </tr>\n",
              "    <tr>\n",
              "      <th>1</th>\n",
              "      <td>2077-11-23 17:47:54</td>\n",
              "      <td>9128.0</td>\n",
              "      <td>86103.50</td>\n",
              "      <td>False</td>\n",
              "      <td>ALPHABET</td>\n",
              "      <td>Udaipur</td>\n",
              "      <td>0</td>\n",
              "      <td>1090</td>\n",
              "      <td>0.0</td>\n",
              "      <td>0</td>\n",
              "      <td>AL-7396</td>\n",
              "      <td>Trichy</td>\n",
              "      <td>3</td>\n",
              "      <td>139.0</td>\n",
              "      <td>A948</td>\n",
              "      <td>0.89</td>\n",
              "      <td>10</td>\n",
              "      <td>11</td>\n",
              "      <td>0</td>\n",
              "      <td>1</td>\n",
              "      <td>0</td>\n",
              "      <td>600</td>\n",
              "      <td>False</td>\n",
              "    </tr>\n",
              "    <tr>\n",
              "      <th>2</th>\n",
              "      <td>2077-06-05 08:36:29</td>\n",
              "      <td>35866.6</td>\n",
              "      <td>164321.15</td>\n",
              "      <td>False</td>\n",
              "      <td>BANANA</td>\n",
              "      <td>Ahmedabad</td>\n",
              "      <td>5</td>\n",
              "      <td>959</td>\n",
              "      <td>0.0</td>\n",
              "      <td>0</td>\n",
              "      <td>BA-3941</td>\n",
              "      <td>Bengaluru</td>\n",
              "      <td>0</td>\n",
              "      <td>120.0</td>\n",
              "      <td>A948</td>\n",
              "      <td>0.89</td>\n",
              "      <td>1</td>\n",
              "      <td>0</td>\n",
              "      <td>0</td>\n",
              "      <td>3</td>\n",
              "      <td>0</td>\n",
              "      <td>600</td>\n",
              "      <td>False</td>\n",
              "    </tr>\n",
              "    <tr>\n",
              "      <th>3</th>\n",
              "      <td>2077-04-27 14:27:27</td>\n",
              "      <td>31801.0</td>\n",
              "      <td>120228.50</td>\n",
              "      <td>False</td>\n",
              "      <td>AIRAMAZON</td>\n",
              "      <td>Shillong</td>\n",
              "      <td>5</td>\n",
              "      <td>708</td>\n",
              "      <td>0.0</td>\n",
              "      <td>0</td>\n",
              "      <td>AI-9119</td>\n",
              "      <td>Bengaluru</td>\n",
              "      <td>1</td>\n",
              "      <td>63.0</td>\n",
              "      <td>SN490</td>\n",
              "      <td>0.95</td>\n",
              "      <td>1</td>\n",
              "      <td>9</td>\n",
              "      <td>0</td>\n",
              "      <td>0</td>\n",
              "      <td>3</td>\n",
              "      <td>250</td>\n",
              "      <td>False</td>\n",
              "    </tr>\n",
              "    <tr>\n",
              "      <th>4</th>\n",
              "      <td>2077-08-01 05:17:36</td>\n",
              "      <td>74232.9</td>\n",
              "      <td>113713.60</td>\n",
              "      <td>False</td>\n",
              "      <td>VIP</td>\n",
              "      <td>Lucknow</td>\n",
              "      <td>1</td>\n",
              "      <td>1959</td>\n",
              "      <td>0.0</td>\n",
              "      <td>0</td>\n",
              "      <td>VI-5208</td>\n",
              "      <td>Trichy</td>\n",
              "      <td>0</td>\n",
              "      <td>220.0</td>\n",
              "      <td>A960</td>\n",
              "      <td>0.93</td>\n",
              "      <td>10</td>\n",
              "      <td>6</td>\n",
              "      <td>0</td>\n",
              "      <td>9</td>\n",
              "      <td>1</td>\n",
              "      <td>400</td>\n",
              "      <td>False</td>\n",
              "    </tr>\n",
              "  </tbody>\n",
              "</table>\n",
              "</div>"
            ],
            "text/plain": [
              "    Takeoff Date Time  ...  Planes to be changed\n",
              "0 2077-11-28 16:37:01  ...                 False\n",
              "1 2077-11-23 17:47:54  ...                 False\n",
              "2 2077-06-05 08:36:29  ...                 False\n",
              "3 2077-04-27 14:27:27  ...                 False\n",
              "4 2077-08-01 05:17:36  ...                 False\n",
              "\n",
              "[5 rows x 23 columns]"
            ]
          },
          "metadata": {
            "tags": []
          },
          "execution_count": 35
        }
      ]
    },
    {
      "cell_type": "code",
      "metadata": {
        "colab": {
          "base_uri": "https://localhost:8080/",
          "height": 436
        },
        "id": "GaVV2MpZEg_A",
        "outputId": "0d56ab8f-8968-4e90-b4f7-e2fceb178d45"
      },
      "source": [
        "\n",
        "changing_flights = df.loc[df['Planes to be changed'] != False] #getting values where plans to be changed is not false\n",
        "changing_flights = changing_flights.drop(['Average Ticket Price (Economy Class)','Average Ticket Price (Premium Class)','Cancelled','Origin Weather','Distance (Miles)','Flight Delay','Flight Delay (Min)','Destination Weather','Total Flight Time (mins)','Total Flight Time (mins)','Origin encoded','Cancelled encoded','Carrier encoded','Plane Type encoded','Destination encoded'],axis = 1) #dropping theirelevant columns\n",
        "changing_flights #printing changing values"
      ],
      "execution_count": null,
      "outputs": [
        {
          "output_type": "execute_result",
          "data": {
            "text/html": [
              "<div>\n",
              "<style scoped>\n",
              "    .dataframe tbody tr th:only-of-type {\n",
              "        vertical-align: middle;\n",
              "    }\n",
              "\n",
              "    .dataframe tbody tr th {\n",
              "        vertical-align: top;\n",
              "    }\n",
              "\n",
              "    .dataframe thead th {\n",
              "        text-align: right;\n",
              "    }\n",
              "</style>\n",
              "<table border=\"1\" class=\"dataframe\">\n",
              "  <thead>\n",
              "    <tr style=\"text-align: right;\">\n",
              "      <th></th>\n",
              "      <th>Takeoff Date Time</th>\n",
              "      <th>Carrier</th>\n",
              "      <th>Origin</th>\n",
              "      <th>Flight Number</th>\n",
              "      <th>Destination</th>\n",
              "      <th>Plane Type</th>\n",
              "      <th>Occupancy Rate</th>\n",
              "      <th>number of seats</th>\n",
              "      <th>Planes to be changed</th>\n",
              "    </tr>\n",
              "  </thead>\n",
              "  <tbody>\n",
              "    <tr>\n",
              "      <th>9</th>\n",
              "      <td>2077-05-15 15:42:03</td>\n",
              "      <td>ARCHIPELAGO</td>\n",
              "      <td>Lucknow</td>\n",
              "      <td>AR-6517</td>\n",
              "      <td>Shillong</td>\n",
              "      <td>A948</td>\n",
              "      <td>0.80</td>\n",
              "      <td>600</td>\n",
              "      <td>Change plane to B666</td>\n",
              "    </tr>\n",
              "    <tr>\n",
              "      <th>15</th>\n",
              "      <td>2077-03-12 11:04:37</td>\n",
              "      <td>BANANA</td>\n",
              "      <td>Indore</td>\n",
              "      <td>BA-5578</td>\n",
              "      <td>Udaipur</td>\n",
              "      <td>A948</td>\n",
              "      <td>0.79</td>\n",
              "      <td>600</td>\n",
              "      <td>Change plane to B666</td>\n",
              "    </tr>\n",
              "    <tr>\n",
              "      <th>17</th>\n",
              "      <td>2077-05-20 22:34:51</td>\n",
              "      <td>PEACOCK</td>\n",
              "      <td>Trichy</td>\n",
              "      <td>PE-3968</td>\n",
              "      <td>Lucknow</td>\n",
              "      <td>A948</td>\n",
              "      <td>0.74</td>\n",
              "      <td>600</td>\n",
              "      <td>Change plane to B666</td>\n",
              "    </tr>\n",
              "    <tr>\n",
              "      <th>18</th>\n",
              "      <td>2077-03-20 18:17:35</td>\n",
              "      <td>STELLARCRAFT</td>\n",
              "      <td>Indore</td>\n",
              "      <td>ST-7961</td>\n",
              "      <td>Kashipur</td>\n",
              "      <td>B666</td>\n",
              "      <td>0.81</td>\n",
              "      <td>480</td>\n",
              "      <td>Change plane to A960</td>\n",
              "    </tr>\n",
              "    <tr>\n",
              "      <th>29</th>\n",
              "      <td>2077-12-01 20:55:34</td>\n",
              "      <td>ALPHABET</td>\n",
              "      <td>Lucknow</td>\n",
              "      <td>AL-2163</td>\n",
              "      <td>Kashipur</td>\n",
              "      <td>B666</td>\n",
              "      <td>0.76</td>\n",
              "      <td>480</td>\n",
              "      <td>Change plane to A960</td>\n",
              "    </tr>\n",
              "    <tr>\n",
              "      <th>...</th>\n",
              "      <td>...</td>\n",
              "      <td>...</td>\n",
              "      <td>...</td>\n",
              "      <td>...</td>\n",
              "      <td>...</td>\n",
              "      <td>...</td>\n",
              "      <td>...</td>\n",
              "      <td>...</td>\n",
              "      <td>...</td>\n",
              "    </tr>\n",
              "    <tr>\n",
              "      <th>9965</th>\n",
              "      <td>2077-03-01 14:00:44</td>\n",
              "      <td>SPACEAXE</td>\n",
              "      <td>Ranchi</td>\n",
              "      <td>SP-7599</td>\n",
              "      <td>Kolkata</td>\n",
              "      <td>A948</td>\n",
              "      <td>0.78</td>\n",
              "      <td>600</td>\n",
              "      <td>Change plane to B666</td>\n",
              "    </tr>\n",
              "    <tr>\n",
              "      <th>9966</th>\n",
              "      <td>2077-06-03 18:00:06</td>\n",
              "      <td>BANANA</td>\n",
              "      <td>Raipur</td>\n",
              "      <td>BA-5013</td>\n",
              "      <td>Shillong</td>\n",
              "      <td>A948</td>\n",
              "      <td>0.73</td>\n",
              "      <td>600</td>\n",
              "      <td>Change plane to B666</td>\n",
              "    </tr>\n",
              "    <tr>\n",
              "      <th>9970</th>\n",
              "      <td>2077-12-20 10:29:51</td>\n",
              "      <td>AIRAMAZON</td>\n",
              "      <td>Indore</td>\n",
              "      <td>AI-4228</td>\n",
              "      <td>Raipur</td>\n",
              "      <td>A948</td>\n",
              "      <td>1.00</td>\n",
              "      <td>600</td>\n",
              "      <td>One more flight required</td>\n",
              "    </tr>\n",
              "    <tr>\n",
              "      <th>9983</th>\n",
              "      <td>2077-09-20 11:45:21</td>\n",
              "      <td>ALPHABET</td>\n",
              "      <td>Ranchi</td>\n",
              "      <td>AL-6845</td>\n",
              "      <td>Raipur</td>\n",
              "      <td>A948</td>\n",
              "      <td>1.00</td>\n",
              "      <td>600</td>\n",
              "      <td>One more flight required</td>\n",
              "    </tr>\n",
              "    <tr>\n",
              "      <th>9987</th>\n",
              "      <td>2077-05-10 11:12:42</td>\n",
              "      <td>PEACOCK</td>\n",
              "      <td>Ahmedabad</td>\n",
              "      <td>PE-6005</td>\n",
              "      <td>Ranchi</td>\n",
              "      <td>A948</td>\n",
              "      <td>0.70</td>\n",
              "      <td>600</td>\n",
              "      <td>Change plane to B666</td>\n",
              "    </tr>\n",
              "  </tbody>\n",
              "</table>\n",
              "<p>2097 rows × 9 columns</p>\n",
              "</div>"
            ],
            "text/plain": [
              "       Takeoff Date Time  ...      Planes to be changed\n",
              "9    2077-05-15 15:42:03  ...      Change plane to B666\n",
              "15   2077-03-12 11:04:37  ...      Change plane to B666\n",
              "17   2077-05-20 22:34:51  ...      Change plane to B666\n",
              "18   2077-03-20 18:17:35  ...      Change plane to A960\n",
              "29   2077-12-01 20:55:34  ...      Change plane to A960\n",
              "...                  ...  ...                       ...\n",
              "9965 2077-03-01 14:00:44  ...      Change plane to B666\n",
              "9966 2077-06-03 18:00:06  ...      Change plane to B666\n",
              "9970 2077-12-20 10:29:51  ...  One more flight required\n",
              "9983 2077-09-20 11:45:21  ...  One more flight required\n",
              "9987 2077-05-10 11:12:42  ...      Change plane to B666\n",
              "\n",
              "[2097 rows x 9 columns]"
            ]
          },
          "metadata": {
            "tags": []
          },
          "execution_count": 36
        }
      ]
    },
    {
      "cell_type": "code",
      "metadata": {
        "colab": {
          "base_uri": "https://localhost:8080/",
          "height": 204
        },
        "id": "qUPHgVqjT-B-",
        "outputId": "9a0656de-c68d-46cd-b68c-7e432a2837d5"
      },
      "source": [
        "\n",
        "changing_flights['Routes'] = changing_flights['Origin'] + \" \" + changing_flights['Destination'] #creating a columnn routes merging the columns origin and destination\n",
        "changing_flights = changing_flights.drop(['Origin','Destination'],axis=1) #dropping the columns origin and destination\n",
        "changing_flights.head(5) #printing the first five columns changing_flights"
      ],
      "execution_count": null,
      "outputs": [
        {
          "output_type": "execute_result",
          "data": {
            "text/html": [
              "<div>\n",
              "<style scoped>\n",
              "    .dataframe tbody tr th:only-of-type {\n",
              "        vertical-align: middle;\n",
              "    }\n",
              "\n",
              "    .dataframe tbody tr th {\n",
              "        vertical-align: top;\n",
              "    }\n",
              "\n",
              "    .dataframe thead th {\n",
              "        text-align: right;\n",
              "    }\n",
              "</style>\n",
              "<table border=\"1\" class=\"dataframe\">\n",
              "  <thead>\n",
              "    <tr style=\"text-align: right;\">\n",
              "      <th></th>\n",
              "      <th>Takeoff Date Time</th>\n",
              "      <th>Carrier</th>\n",
              "      <th>Flight Number</th>\n",
              "      <th>Plane Type</th>\n",
              "      <th>Occupancy Rate</th>\n",
              "      <th>number of seats</th>\n",
              "      <th>Planes to be changed</th>\n",
              "      <th>Routes</th>\n",
              "    </tr>\n",
              "  </thead>\n",
              "  <tbody>\n",
              "    <tr>\n",
              "      <th>9</th>\n",
              "      <td>2077-05-15 15:42:03</td>\n",
              "      <td>ARCHIPELAGO</td>\n",
              "      <td>AR-6517</td>\n",
              "      <td>A948</td>\n",
              "      <td>0.80</td>\n",
              "      <td>600</td>\n",
              "      <td>Change plane to B666</td>\n",
              "      <td>Lucknow Shillong</td>\n",
              "    </tr>\n",
              "    <tr>\n",
              "      <th>15</th>\n",
              "      <td>2077-03-12 11:04:37</td>\n",
              "      <td>BANANA</td>\n",
              "      <td>BA-5578</td>\n",
              "      <td>A948</td>\n",
              "      <td>0.79</td>\n",
              "      <td>600</td>\n",
              "      <td>Change plane to B666</td>\n",
              "      <td>Indore Udaipur</td>\n",
              "    </tr>\n",
              "    <tr>\n",
              "      <th>17</th>\n",
              "      <td>2077-05-20 22:34:51</td>\n",
              "      <td>PEACOCK</td>\n",
              "      <td>PE-3968</td>\n",
              "      <td>A948</td>\n",
              "      <td>0.74</td>\n",
              "      <td>600</td>\n",
              "      <td>Change plane to B666</td>\n",
              "      <td>Trichy Lucknow</td>\n",
              "    </tr>\n",
              "    <tr>\n",
              "      <th>18</th>\n",
              "      <td>2077-03-20 18:17:35</td>\n",
              "      <td>STELLARCRAFT</td>\n",
              "      <td>ST-7961</td>\n",
              "      <td>B666</td>\n",
              "      <td>0.81</td>\n",
              "      <td>480</td>\n",
              "      <td>Change plane to A960</td>\n",
              "      <td>Indore Kashipur</td>\n",
              "    </tr>\n",
              "    <tr>\n",
              "      <th>29</th>\n",
              "      <td>2077-12-01 20:55:34</td>\n",
              "      <td>ALPHABET</td>\n",
              "      <td>AL-2163</td>\n",
              "      <td>B666</td>\n",
              "      <td>0.76</td>\n",
              "      <td>480</td>\n",
              "      <td>Change plane to A960</td>\n",
              "      <td>Lucknow Kashipur</td>\n",
              "    </tr>\n",
              "  </tbody>\n",
              "</table>\n",
              "</div>"
            ],
            "text/plain": [
              "     Takeoff Date Time       Carrier  ...  Planes to be changed            Routes\n",
              "9  2077-05-15 15:42:03   ARCHIPELAGO  ...  Change plane to B666  Lucknow Shillong\n",
              "15 2077-03-12 11:04:37        BANANA  ...  Change plane to B666    Indore Udaipur\n",
              "17 2077-05-20 22:34:51       PEACOCK  ...  Change plane to B666    Trichy Lucknow\n",
              "18 2077-03-20 18:17:35  STELLARCRAFT  ...  Change plane to A960   Indore Kashipur\n",
              "29 2077-12-01 20:55:34      ALPHABET  ...  Change plane to A960  Lucknow Kashipur\n",
              "\n",
              "[5 rows x 8 columns]"
            ]
          },
          "metadata": {
            "tags": []
          },
          "execution_count": 37
        }
      ]
    },
    {
      "cell_type": "code",
      "metadata": {
        "colab": {
          "base_uri": "https://localhost:8080/"
        },
        "id": "8-fcxMY8Us00",
        "outputId": "527225ae-3549-4b4c-90ff-c1b8a8e0b8fb"
      },
      "source": [
        "\n",
        "changing_fights_grouped = changing_flights.groupby('Planes to be changed') #creating changing_fights_grouped by combining the rseults from planes to be chnaged\n",
        "changing_fights_grouped.groups #grouping the data"
      ],
      "execution_count": null,
      "outputs": [
        {
          "output_type": "execute_result",
          "data": {
            "text/plain": [
              "{'Change plane to A948': [707, 948, 1249, 1253, 1399, 1913, 2122, 3129, 3573, 3729, 3864, 4438, 5043, 5407, 5648, 5955, 6056, 6384, 6662, 7272, 7307, 8666, 9321, 9417], 'Change plane to A960': [18, 29, 36, 59, 67, 128, 143, 149, 173, 185, 230, 234, 269, 281, 300, 308, 328, 375, 391, 404, 439, 460, 471, 513, 532, 537, 541, 559, 564, 573, 585, 596, 602, 604, 617, 638, 682, 685, 737, 739, 746, 786, 796, 802, 811, 842, 881, 900, 901, 904, 922, 929, 936, 965, 1014, 1036, 1044, 1052, 1103, 1124, 1149, 1155, 1197, 1232, 1301, 1321, 1365, 1380, 1383, 1395, 1465, 1469, 1523, 1549, 1574, 1597, 1608, 1628, 1642, 1646, 1649, 1656, 1664, 1694, 1733, 1771, 1776, 1809, 1836, 1852, 1856, 1862, 1864, 1867, 1909, 1980, 1997, 1998, 1999, 2015, ...], 'Change plane to B666': [9, 15, 17, 30, 32, 39, 40, 44, 48, 55, 58, 78, 79, 92, 98, 99, 106, 109, 114, 115, 121, 130, 131, 132, 136, 140, 141, 142, 144, 160, 163, 168, 175, 189, 197, 198, 199, 200, 203, 206, 210, 213, 216, 219, 222, 231, 244, 245, 246, 264, 267, 277, 280, 283, 284, 287, 296, 314, 325, 327, 329, 330, 345, 351, 359, 394, 397, 400, 406, 412, 413, 418, 420, 442, 445, 462, 473, 478, 479, 484, 497, 499, 506, 512, 520, 530, 539, 561, 563, 570, 571, 575, 580, 603, 609, 611, 619, 625, 630, 631, ...], 'One more flight required': [75, 371, 501, 522, 590, 680, 761, 868, 874, 988, 1238, 1248, 1270, 1327, 1345, 1405, 1430, 1434, 1499, 1773, 1985, 2004, 2022, 2166, 2298, 2568, 2690, 2748, 2753, 2831, 2990, 3004, 3311, 3389, 3469, 3515, 3637, 3996, 4045, 4053, 4163, 4190, 4253, 4323, 4328, 4379, 4384, 4436, 4658, 4833, 4845, 4846, 4881, 4941, 4998, 5087, 5099, 5120, 5232, 5282, 5318, 5598, 5731, 5765, 5781, 5800, 5937, 6116, 6163, 6348, 6419, 6448, 6497, 6650, 6671, 6925, 6962, 7148, 7334, 7375, 7491, 7529, 7589, 7606, 7682, 7918, 7974, 8044, 8110, 8227, 8303, 8328, 8625, 8798, 8805, 8825, 8836, 8867, 8870, 8975, ...]}"
            ]
          },
          "metadata": {
            "tags": []
          },
          "execution_count": 38
        }
      ]
    },
    {
      "cell_type": "code",
      "metadata": {
        "colab": {
          "base_uri": "https://localhost:8080/"
        },
        "id": "oxKVzUCjc8Op",
        "outputId": "82788125-f3f8-426a-b31c-bd1d8b965a56"
      },
      "source": [
        "print(\"The planes which need to be changed  to A948 are \")\n",
        "planes_to_a948 = changing_fights_grouped.get_group('Change plane to A948')['Flight Number'].unique() #getting unique values from the group chnage plane A948\n",
        "print(planes_to_a948)\n",
        "print(\"The planes which need to be changed to B666 are \")\n",
        "planes_to_b666 = changing_fights_grouped.get_group('Change plane to B666')['Flight Number'].unique()  #getting unique values from the group chnage plane B666\n",
        "print(planes_to_b666)\n",
        "print(\"The planes which need to be changed to A960 are \")\n",
        "planes_to_a960 = changing_fights_grouped.get_group('Change plane to A960')['Flight Number'].unique() #getting unique values from the group chnage plane A960\n",
        "print(planes_to_a960)"
      ],
      "execution_count": null,
      "outputs": [
        {
          "output_type": "stream",
          "text": [
            "The planes which need to be changed  to A948 are \n",
            "['BA-2446' 'AR-6923' 'SP-6236' 'AL-1686' 'VI-7735' 'BI-4452' 'VI-1684'\n",
            " 'ST-9634' 'SE-1718' 'BA-2171' 'BI-9030' 'VI-4659' 'AL-3482' 'VI-9842'\n",
            " 'PE-5067' 'BI-5434' 'BA-5019' 'SP-8082' 'ST-1497' 'BI-6632' 'AL-8536'\n",
            " 'ST-2254' 'SE-3364' 'AI-1629']\n",
            "The planes which need to be changed to B666 are \n",
            "['AR-6517' 'BA-5578' 'PE-3968' ... 'SP-7599' 'BA-5013' 'PE-6005']\n",
            "The planes which need to be changed to A960 are \n",
            "['ST-7961' 'AL-2163' 'SE-3265' 'AI-1804' 'BI-5808' 'SE-1060' 'AI-6321'\n",
            " 'AL-7320' 'ST-8626' 'BA-4663' 'PE-8500' 'ST-3223' 'ST-5157' 'BI-5848'\n",
            " 'AL-7078' 'PE-1112' 'BA-3436' 'BI-5634' 'BI-9786' 'BI-9533' 'VI-9294'\n",
            " 'BA-8001' 'SE-5609' 'PE-4312' 'AR-2770' 'ST-6796' 'AI-3890' 'AR-6035'\n",
            " 'AR-7946' 'AR-6314' 'BI-3331' 'VI-6483' 'AR-8234' 'ST-8982' 'AL-9438'\n",
            " 'BA-6324' 'BI-4427' 'AR-8265' 'VI-3599' 'AL-1178' 'BA-7332' 'AI-7894'\n",
            " 'ST-3059' 'ST-8959' 'ST-4454' 'AL-9538' 'SP-4214' 'AI-1858' 'AL-2564'\n",
            " 'BA-7685' 'AI-5988' 'PE-1539' 'ST-3578' 'SP-9558' 'AI-3811' 'VI-2704'\n",
            " 'ST-6593' 'SE-6190' 'PE-3522' 'SP-7445' 'AI-5596' 'SP-3411' 'BI-8086'\n",
            " 'AR-3849' 'BA-1071' 'AR-6178' 'SE-5208' 'VI-1456' 'PE-8843' 'ST-9956'\n",
            " 'SE-3987' 'AR-5803' 'VI-4441' 'BA-2135' 'PE-8286' 'AL-7926' 'AL-8055'\n",
            " 'PE-8837' 'AL-5704' 'AI-6931' 'PE-5276' 'VI-3667' 'BA-7819' 'BI-6745'\n",
            " 'BI-9772' 'ST-2101' 'PE-1947' 'BA-2145' 'SP-8715' 'BA-8344' 'ST-1262'\n",
            " 'AI-9129' 'AL-8255' 'AL-6429' 'ST-7100' 'AI-3328' 'VI-9032' 'VI-3803'\n",
            " 'AI-2541' 'PE-1484' 'AR-2894' 'PE-1421' 'ST-5693' 'SE-9069' 'AR-2275'\n",
            " 'BA-8475' 'AR-1344' 'ST-5831' 'AR-4538' 'SE-2338' 'PE-7442' 'BI-7146'\n",
            " 'AR-2707' 'SE-4901' 'AI-4205' 'PE-1664' 'AL-6313' 'AL-5168' 'PE-6592'\n",
            " 'AI-5535' 'SP-1814' 'VI-1664' 'BA-8866' 'BI-6707' 'BA-8501' 'BI-1070'\n",
            " 'AI-9265' 'PE-8619' 'BA-9276' 'AL-3520' 'SP-9709' 'BI-3935' 'AR-9976'\n",
            " 'AR-1237' 'AL-5109' 'PE-9061' 'AI-3598' 'VI-5756' 'AR-9112' 'VI-4736'\n",
            " 'SP-6837' 'AL-9950' 'BI-2077' 'PE-6490' 'AR-3981' 'SE-1113' 'AL-3616'\n",
            " 'AR-4774' 'PE-9249' 'ST-8937' 'BI-4179' 'ST-1291' 'SP-5125' 'AI-4879'\n",
            " 'SP-5366' 'AR-2423' 'BI-6285' 'BA-2159' 'PE-8654' 'BI-5866' 'SP-1434'\n",
            " 'AR-6916' 'SE-5597' 'PE-5921' 'AI-9473' 'SP-5290' 'SP-7590' 'SE-1817'\n",
            " 'AL-5692' 'BI-7887' 'ST-3850' 'BI-9584' 'PE-4329' 'VI-6455' 'BA-9128'\n",
            " 'BI-2526' 'BA-9027' 'BA-9040' 'AL-7671' 'SE-7899' 'PE-2905' 'PE-8731'\n",
            " 'ST-7688' 'ST-7141' 'AI-5571' 'SP-4669' 'BI-3357' 'SP-1440' 'BA-1110'\n",
            " 'PE-1636' 'AL-4668' 'BA-9581' 'ST-3915' 'VI-8436' 'PE-8256' 'BA-4527'\n",
            " 'PE-5836' 'VI-6497' 'SP-7559' 'SE-9223' 'BI-6391' 'AI-2019' 'AL-3828'\n",
            " 'AR-2514' 'BI-4072' 'BA-8231' 'AL-7620' 'AR-8247' 'SE-9397' 'AR-9704'\n",
            " 'BI-9223' 'PE-5325' 'BI-4589' 'ST-1136' 'BA-5312' 'AI-4065' 'AI-5802'\n",
            " 'AL-4174' 'BI-2849' 'PE-2540' 'BA-6725' 'AL-7255' 'AL-5601' 'SP-6636'\n",
            " 'PE-1236' 'ST-5131' 'AI-5523' 'AI-4672' 'BA-9934' 'BA-3854' 'ST-9438'\n",
            " 'ST-5360' 'AL-1033' 'AI-5582' 'PE-1481' 'PE-2741' 'BI-8716' 'AR-8975'\n",
            " 'VI-8226' 'SP-7219' 'BI-2944' 'PE-7187' 'VI-1771' 'AL-7391' 'AL-9698'\n",
            " 'BA-4419' 'VI-8254' 'BI-7822' 'PE-3635' 'BA-4538' 'SP-7480' 'AL-9900'\n",
            " 'SP-4116' 'PE-5386' 'ST-7734' 'AL-5896' 'AI-7644' 'AI-1767' 'VI-6482'\n",
            " 'BA-4475' 'SE-5834' 'AI-5415' 'AR-2835' 'AL-7394' 'BI-6632' 'SP-6131'\n",
            " 'AI-3469' 'AR-8141' 'AL-8381' 'AL-3932' 'VI-7106' 'SE-2216' 'SE-6264'\n",
            " 'AL-8384' 'AR-8789' 'PE-2933' 'PE-4134' 'AL-5260' 'AL-4266' 'VI-2091'\n",
            " 'BA-4664' 'ST-1350' 'VI-1565' 'AI-2430' 'SE-3861' 'BA-8854' 'ST-4803'\n",
            " 'AR-5019' 'AL-6043' 'SP-9718' 'AR-4151' 'BI-7809' 'AI-4368' 'ST-5070'\n",
            " 'PE-5336' 'BI-3917' 'AL-7699' 'SE-5142' 'AR-8964' 'PE-8391' 'ST-3579'\n",
            " 'AI-9184' 'SP-7171' 'ST-9535' 'AL-5871' 'AL-3774' 'AR-3020' 'SP-9995'\n",
            " 'AR-1833' 'SP-4922' 'BI-5695' 'VI-7344' 'ST-7803' 'PE-4710' 'ST-3173'\n",
            " 'AL-1303' 'BI-6497' 'AL-3997' 'AR-5061' 'SE-9875' 'AI-5505' 'AL-6868'\n",
            " 'SE-8366' 'SE-5779' 'ST-3492' 'AR-5128' 'SP-4507' 'VI-7242' 'PE-7896'\n",
            " 'ST-5950' 'ST-9914' 'AL-5956' 'SP-6987' 'AR-4255' 'VI-2688' 'VI-1210'\n",
            " 'BI-1507' 'BI-6146' 'VI-4834' 'AI-4564' 'ST-1510' 'BI-2486' 'AR-5809'\n",
            " 'AR-2585' 'AI-9294' 'AR-4260' 'BI-2778' 'AR-2141' 'PE-6062' 'SE-5776'\n",
            " 'PE-6626' 'AI-8105' 'PE-5582' 'ST-7232' 'AR-5485' 'AI-9153' 'SE-3668'\n",
            " 'ST-9009' 'AL-1464' 'AL-9688' 'AL-3931' 'AR-9859' 'SE-4859' 'AR-6877'\n",
            " 'SE-4238' 'AI-9334' 'SE-2715' 'SE-5129' 'SP-5317' 'BI-2972' 'SE-6034'\n",
            " 'AR-9960' 'SP-9381' 'AL-3199' 'AI-5389' 'SP-5381' 'PE-4590' 'VI-3802'\n",
            " 'AI-6068' 'PE-6575' 'BI-9543' 'PE-7905' 'ST-4878' 'ST-7187' 'AI-4367'\n",
            " 'AI-5609' 'VI-4466' 'VI-6357' 'AL-8099' 'AR-7193' 'PE-5989' 'PE-7160'\n",
            " 'SE-3062' 'SE-1977' 'ST-2159' 'AR-4322' 'PE-2105' 'AL-7922' 'VI-8924'\n",
            " 'AI-4676' 'SP-3618' 'BA-5581' 'BA-4307' 'BA-5099' 'BA-9697' 'SE-1869'\n",
            " 'AI-5164' 'BA-3565' 'BI-1225' 'ST-9774' 'BI-6676' 'VI-8545' 'AI-8022'\n",
            " 'SE-7283' 'BA-6714' 'AR-2272' 'AL-9325' 'VI-9168' 'VI-6202' 'AR-2464'\n",
            " 'AL-1965' 'SP-1085' 'SE-2231' 'BA-7693' 'ST-9692' 'PE-6974' 'AR-9029'\n",
            " 'BA-1567' 'PE-3197' 'AL-2338' 'BI-7383' 'PE-5617' 'VI-6122' 'VI-2797'\n",
            " 'ST-2580' 'ST-4676' 'AR-5098' 'BA-3581' 'BA-7918' 'SE-4464' 'PE-6055'\n",
            " 'AR-8707' 'SP-2407' 'AI-5111' 'SE-8035' 'ST-8787' 'VI-7053' 'ST-6584'\n",
            " 'AL-4661' 'BI-3949' 'SE-6608' 'SE-4548' 'VI-8509' 'AR-6850' 'SP-6727'\n",
            " 'BI-4799' 'BI-5369' 'AR-2125' 'AL-7477' 'VI-1318' 'AI-3288' 'AR-6335'\n",
            " 'BI-5973' 'AI-4896' 'PE-8902' 'AI-8821' 'SP-6601' 'VI-9796' 'AI-5767'\n",
            " 'PE-9116' 'SP-7278' 'SE-9236' 'AR-4568' 'SP-8332' 'ST-5056' 'BA-8540'\n",
            " 'BA-4291' 'AL-4542' 'BA-3176' 'VI-3047' 'AR-1615' 'BI-1271' 'AR-5781'\n",
            " 'BI-6108' 'AL-7621' 'AL-1359' 'AL-2034' 'AR-8530' 'SP-1966' 'BA-8555'\n",
            " 'BI-6592' 'ST-4163' 'BI-4911' 'AL-4878' 'AR-1784' 'BI-6873' 'AL-8225'\n",
            " 'BA-9179' 'AR-1168' 'AL-6257' 'PE-4581' 'AR-4571' 'AI-2519' 'SP-9762'\n",
            " 'SE-2947' 'AI-7678' 'SP-4022' 'BI-5037' 'ST-5311' 'SP-7580' 'SP-6630'\n",
            " 'BI-5862' 'SP-5432' 'AI-7797' 'AR-7319' 'BA-6290' 'AI-6454' 'VI-3594'\n",
            " 'PE-4909' 'AR-3001' 'AI-4777' 'SP-8714' 'BA-8216' 'ST-3037' 'BI-5215']\n"
          ],
          "name": "stdout"
        }
      ]
    },
    {
      "cell_type": "code",
      "metadata": {
        "colab": {
          "base_uri": "https://localhost:8080/"
        },
        "id": "rMFtNjPrVYjh",
        "outputId": "f4ef22cd-73c9-4997-aa11-c0e693915fc2"
      },
      "source": [
        "\n",
        "print(\"The routes which require A948 are \")\n",
        "planes_to_a948 = changing_fights_grouped.get_group('Change plane to A948')['Routes'].unique() #getting unique values of routes from the group chnage plane A948\n",
        "print(planes_to_a948)\n",
        "print(\"The routes which require B666 are \")\n",
        "planes_to_b666 = changing_fights_grouped.get_group('Change plane to B666')['Routes'].unique() #getting unique values of routes from the group chnage plane B666\n",
        "print(planes_to_b666)\n",
        "print(\"The routes which require A960 are \")\n",
        "planes_to_a960 = changing_fights_grouped.get_group('Change plane to A960')['Routes'].unique() #getting unique values of routes from the group chnage plane A960\n",
        "print(planes_to_a960)\n",
        "print(\"The routes which require One more plane are \")\n",
        "one_more_plane = changing_fights_grouped.get_group('One more flight required')['Routes'].unique() #getting unique values of routes from the group one more flight required\n",
        "print(one_more_plane)"
      ],
      "execution_count": null,
      "outputs": [
        {
          "output_type": "stream",
          "text": [
            "The routes which require A948 are \n",
            "['Lucknow Trichy' 'Kolkata Kashipur' 'Trichy Udaipur' 'Indore Kozhikode'\n",
            " 'Kozhikode Kashipur' 'Ranchi Kashipur' 'Kashipur Ranchi'\n",
            " 'Udaipur Shillong' 'Trichy Bengaluru' 'Ahmedabad Bengaluru'\n",
            " 'Lucknow Udaipur' 'Ranchi Bengaluru' 'Bengaluru Raipur'\n",
            " 'Kolkata Shillong' 'Shillong Trichy' 'Lucknow Indore' 'Trichy Ranchi'\n",
            " 'Kozhikode Udaipur' 'Trichy Kolkata' 'Kolkata Ahmedabad']\n",
            "The routes which require B666 are \n",
            "['Lucknow Shillong' 'Indore Udaipur' 'Trichy Lucknow' 'Indore Bengaluru'\n",
            " 'Udaipur Shillong' 'Kolkata Lucknow' 'Kolkata Indore' 'Trichy Raipur'\n",
            " 'Ranchi Indore' 'Bengaluru Ahmedabad' 'Bengaluru Kozhikode'\n",
            " 'Trichy Ahmedabad' 'Udaipur Indore' 'Raipur Ranchi' 'Shillong Trichy'\n",
            " 'Raipur Lucknow' 'Lucknow Ahmedabad' 'Ranchi Kozhikode' 'Trichy Kolkata'\n",
            " 'Kashipur Kozhikode' 'Ahmedabad Shillong' 'Kashipur Trichy'\n",
            " 'Raipur Kashipur' 'Ranchi Bengaluru' 'Bengaluru Udaipur'\n",
            " 'Udaipur Ahmedabad' 'Raipur Kolkata' 'Ranchi Ahmedabad' 'Shillong Indore'\n",
            " 'Kozhikode Bengaluru' 'Indore Raipur' 'Kolkata Kozhikode'\n",
            " 'Ahmedabad Bengaluru' 'Kozhikode Udaipur' 'Raipur Indore'\n",
            " 'Bengaluru Lucknow' 'Indore Trichy' 'Kozhikode Raipur' 'Lucknow Raipur'\n",
            " 'Kashipur Indore' 'Bengaluru Kashipur' 'Udaipur Lucknow'\n",
            " 'Ranchi Kashipur' 'Bengaluru Raipur' 'Indore Kashipur'\n",
            " 'Shillong Kozhikode' 'Raipur Trichy' 'Lucknow Ranchi'\n",
            " 'Shillong Ahmedabad' 'Udaipur Bengaluru' 'Shillong Lucknow'\n",
            " 'Lucknow Indore' 'Udaipur Kashipur' 'Udaipur Kozhikode'\n",
            " 'Trichy Bengaluru' 'Kashipur Bengaluru' 'Ahmedabad Kozhikode'\n",
            " 'Udaipur Ranchi' 'Kozhikode Trichy' 'Kolkata Raipur' 'Shillong Kolkata'\n",
            " 'Trichy Udaipur' 'Shillong Bengaluru' 'Ranchi Shillong'\n",
            " 'Bengaluru Kolkata' 'Ahmedabad Raipur' 'Bengaluru Shillong'\n",
            " 'Indore Ranchi' 'Kolkata Trichy' 'Ranchi Kolkata' 'Ahmedabad Ranchi'\n",
            " 'Kashipur Kolkata' 'Raipur Bengaluru' 'Udaipur Raipur'\n",
            " 'Ahmedabad Kashipur' 'Raipur Ahmedabad' 'Udaipur Kolkata'\n",
            " 'Kolkata Udaipur' 'Indore Ahmedabad' 'Shillong Udaipur'\n",
            " 'Ahmedabad Trichy' 'Indore Lucknow' 'Lucknow Kashipur' 'Shillong Raipur'\n",
            " 'Ahmedabad Indore' 'Kashipur Raipur' 'Trichy Shillong' 'Raipur Kozhikode'\n",
            " 'Bengaluru Trichy' 'Trichy Kashipur' 'Kozhikode Indore'\n",
            " 'Indore Kozhikode' 'Shillong Kashipur' 'Shillong Ranchi'\n",
            " 'Ahmedabad Lucknow' 'Kozhikode Lucknow' 'Lucknow Trichy'\n",
            " 'Kozhikode Kashipur' 'Kolkata Kashipur' 'Lucknow Kolkata'\n",
            " 'Ranchi Udaipur' 'Kashipur Udaipur' 'Lucknow Kozhikode' 'Trichy Ranchi'\n",
            " 'Kozhikode Shillong' 'Lucknow Udaipur' 'Ranchi Trichy' 'Bengaluru Indore'\n",
            " 'Kozhikode Kolkata' 'Trichy Kozhikode' 'Kashipur Lucknow'\n",
            " 'Kozhikode Ranchi' 'Kolkata Bengaluru' 'Kolkata Ranchi'\n",
            " 'Kashipur Shillong' 'Kozhikode Ahmedabad' 'Kolkata Shillong'\n",
            " 'Ahmedabad Udaipur' 'Kashipur Ahmedabad' 'Ranchi Raipur'\n",
            " 'Raipur Shillong' 'Raipur Udaipur' 'Lucknow Bengaluru'\n",
            " 'Ahmedabad Kolkata' 'Bengaluru Ranchi' 'Udaipur Trichy' 'Kashipur Ranchi'\n",
            " 'Ranchi Lucknow' 'Indore Kolkata' 'Kolkata Ahmedabad' 'Trichy Indore'\n",
            " 'Indore Shillong']\n",
            "The routes which require A960 are \n",
            "['Indore Kashipur' 'Lucknow Kashipur' 'Bengaluru Ranchi' 'Ranchi Lucknow'\n",
            " 'Bengaluru Shillong' 'Udaipur Shillong' 'Bengaluru Kolkata'\n",
            " 'Kolkata Trichy' 'Trichy Raipur' 'Kozhikode Udaipur' 'Trichy Lucknow'\n",
            " 'Lucknow Indore' 'Kashipur Ahmedabad' 'Kolkata Shillong'\n",
            " 'Shillong Bengaluru' 'Udaipur Kozhikode' 'Ranchi Trichy'\n",
            " 'Kolkata Bengaluru' 'Indore Kolkata' 'Kozhikode Raipur'\n",
            " 'Kozhikode Ahmedabad' 'Ahmedabad Bengaluru' 'Indore Raipur'\n",
            " 'Shillong Kozhikode' 'Ranchi Shillong' 'Bengaluru Kashipur'\n",
            " 'Shillong Kolkata' 'Kolkata Kashipur' 'Ahmedabad Kozhikode'\n",
            " 'Kashipur Ranchi' 'Bengaluru Kozhikode' 'Udaipur Trichy'\n",
            " 'Ranchi Bengaluru' 'Ahmedabad Trichy' 'Trichy Kashipur' 'Ranchi Udaipur'\n",
            " 'Kozhikode Shillong' 'Shillong Ahmedabad' 'Kozhikode Kashipur'\n",
            " 'Raipur Trichy' 'Kolkata Udaipur' 'Kashipur Raipur' 'Indore Ahmedabad'\n",
            " 'Trichy Ahmedabad' 'Ranchi Ahmedabad' 'Kolkata Ahmedabad'\n",
            " 'Kozhikode Indore' 'Raipur Ranchi' 'Indore Lucknow' 'Ranchi Kozhikode'\n",
            " 'Ranchi Kashipur' 'Udaipur Kolkata' 'Kozhikode Bengaluru'\n",
            " 'Shillong Raipur' 'Shillong Trichy' 'Raipur Udaipur' 'Lucknow Raipur'\n",
            " 'Kolkata Lucknow' 'Trichy Bengaluru' 'Raipur Bengaluru' 'Raipur Indore'\n",
            " 'Bengaluru Lucknow' 'Kozhikode Ranchi' 'Bengaluru Raipur'\n",
            " 'Raipur Ahmedabad' 'Raipur Lucknow' 'Shillong Ranchi' 'Ahmedabad Udaipur'\n",
            " 'Kolkata Indore' 'Ahmedabad Ranchi' 'Indore Shillong'\n",
            " 'Bengaluru Ahmedabad' 'Shillong Indore' 'Trichy Udaipur'\n",
            " 'Bengaluru Trichy' 'Bengaluru Indore' 'Raipur Kozhikode'\n",
            " 'Kozhikode Kolkata' 'Ahmedabad Kashipur' 'Kozhikode Trichy'\n",
            " 'Indore Kozhikode' 'Kashipur Udaipur' 'Kashipur Bengaluru'\n",
            " 'Trichy Indore' 'Ranchi Raipur' 'Indore Bengaluru' 'Lucknow Ahmedabad'\n",
            " 'Lucknow Trichy' 'Lucknow Kozhikode' 'Kolkata Kozhikode'\n",
            " 'Kashipur Indore' 'Raipur Shillong' 'Lucknow Shillong'\n",
            " 'Udaipur Bengaluru' 'Indore Udaipur' 'Kashipur Trichy' 'Lucknow Kolkata'\n",
            " 'Udaipur Lucknow' 'Lucknow Ranchi' 'Ahmedabad Raipur' 'Kozhikode Lucknow'\n",
            " 'Kashipur Kolkata' 'Ranchi Indore' 'Shillong Lucknow' 'Kashipur Lucknow'\n",
            " 'Ahmedabad Shillong' 'Trichy Shillong' 'Ahmedabad Kolkata'\n",
            " 'Trichy Ranchi' 'Raipur Kashipur' 'Udaipur Ahmedabad' 'Lucknow Bengaluru'\n",
            " 'Indore Ranchi' 'Kashipur Shillong' 'Bengaluru Udaipur'\n",
            " 'Ahmedabad Indore' 'Kolkata Raipur' 'Lucknow Udaipur' 'Ahmedabad Lucknow'\n",
            " 'Udaipur Kashipur' 'Indore Trichy' 'Udaipur Indore' 'Kolkata Ranchi'\n",
            " 'Trichy Kolkata' 'Ranchi Kolkata' 'Udaipur Raipur' 'Trichy Kozhikode'\n",
            " 'Shillong Udaipur' 'Kashipur Kozhikode']\n",
            "The routes which require One more plane are \n",
            "['Kozhikode Ranchi' 'Kashipur Kolkata' 'Trichy Indore' 'Kolkata Kozhikode'\n",
            " 'Ahmedabad Bengaluru' 'Raipur Bengaluru' 'Kolkata Shillong'\n",
            " 'Kolkata Indore' 'Udaipur Kolkata' 'Trichy Bengaluru' 'Lucknow Ahmedabad'\n",
            " 'Ahmedabad Ranchi' 'Bengaluru Trichy' 'Ranchi Raipur' 'Raipur Trichy'\n",
            " 'Kashipur Ahmedabad' 'Ranchi Shillong' 'Lucknow Bengaluru'\n",
            " 'Kolkata Trichy' 'Trichy Shillong' 'Bengaluru Shillong' 'Ranchi Lucknow'\n",
            " 'Kashipur Ranchi' 'Trichy Kolkata' 'Shillong Kolkata' 'Raipur Udaipur'\n",
            " 'Kozhikode Indore' 'Shillong Raipur' 'Raipur Kolkata' 'Trichy Ranchi'\n",
            " 'Ahmedabad Raipur' 'Shillong Udaipur' 'Ranchi Trichy' 'Lucknow Kashipur'\n",
            " 'Lucknow Udaipur' 'Bengaluru Kolkata' 'Lucknow Shillong' 'Kolkata Raipur'\n",
            " 'Indore Kashipur' 'Kashipur Indore' 'Udaipur Bengaluru'\n",
            " 'Bengaluru Ranchi' 'Indore Trichy' 'Shillong Kashipur' 'Ranchi Indore'\n",
            " 'Udaipur Indore' 'Kozhikode Kashipur' 'Kolkata Lucknow'\n",
            " 'Bengaluru Udaipur' 'Trichy Raipur' 'Raipur Ahmedabad' 'Shillong Indore'\n",
            " 'Raipur Ranchi' 'Bengaluru Kozhikode' 'Indore Raipur'\n",
            " 'Bengaluru Kashipur' 'Kashipur Shillong' 'Kolkata Udaipur'\n",
            " 'Udaipur Lucknow' 'Indore Kozhikode' 'Indore Ahmedabad' 'Lucknow Indore'\n",
            " 'Indore Ranchi' 'Lucknow Raipur' 'Udaipur Ranchi' 'Kozhikode Kolkata'\n",
            " 'Raipur Shillong' 'Udaipur Raipur' 'Trichy Udaipur' 'Indore Udaipur'\n",
            " 'Kashipur Raipur' 'Raipur Kozhikode' 'Shillong Lucknow']\n"
          ],
          "name": "stdout"
        }
      ]
    },
    {
      "cell_type": "code",
      "metadata": {
        "colab": {
          "base_uri": "https://localhost:8080/",
          "height": 462
        },
        "id": "9EoeU1JeZJDD",
        "outputId": "585de2b8-1897-4dc2-b6be-04ed516d0201"
      },
      "source": [
        "df.head(5) #PRINTING THE FIRST FIVE VALUES TO CHECK"
      ],
      "execution_count": null,
      "outputs": [
        {
          "output_type": "execute_result",
          "data": {
            "text/html": [
              "<div>\n",
              "<style scoped>\n",
              "    .dataframe tbody tr th:only-of-type {\n",
              "        vertical-align: middle;\n",
              "    }\n",
              "\n",
              "    .dataframe tbody tr th {\n",
              "        vertical-align: top;\n",
              "    }\n",
              "\n",
              "    .dataframe thead th {\n",
              "        text-align: right;\n",
              "    }\n",
              "</style>\n",
              "<table border=\"1\" class=\"dataframe\">\n",
              "  <thead>\n",
              "    <tr style=\"text-align: right;\">\n",
              "      <th></th>\n",
              "      <th>Takeoff Date Time</th>\n",
              "      <th>Average Ticket Price (Economy Class)</th>\n",
              "      <th>Average Ticket Price (Premium Class)</th>\n",
              "      <th>Cancelled</th>\n",
              "      <th>Carrier</th>\n",
              "      <th>Origin</th>\n",
              "      <th>Origin Weather</th>\n",
              "      <th>Distance (Miles)</th>\n",
              "      <th>Flight Delay</th>\n",
              "      <th>Flight Delay (Min)</th>\n",
              "      <th>Flight Number</th>\n",
              "      <th>Destination</th>\n",
              "      <th>Destination Weather</th>\n",
              "      <th>Total Flight Time (mins)</th>\n",
              "      <th>Plane Type</th>\n",
              "      <th>Occupancy Rate</th>\n",
              "      <th>Destination encoded</th>\n",
              "      <th>Origin encoded</th>\n",
              "      <th>Cancelled encoded</th>\n",
              "      <th>Carrier encoded</th>\n",
              "      <th>Plane Type encoded</th>\n",
              "      <th>number of seats</th>\n",
              "      <th>Planes to be changed</th>\n",
              "    </tr>\n",
              "  </thead>\n",
              "  <tbody>\n",
              "    <tr>\n",
              "      <th>0</th>\n",
              "      <td>2077-11-28 16:37:01</td>\n",
              "      <td>30992.5</td>\n",
              "      <td>137060.00</td>\n",
              "      <td>False</td>\n",
              "      <td>ALPHABET</td>\n",
              "      <td>Kolkata</td>\n",
              "      <td>4</td>\n",
              "      <td>559</td>\n",
              "      <td>0.0</td>\n",
              "      <td>0</td>\n",
              "      <td>AL-9002</td>\n",
              "      <td>Shillong</td>\n",
              "      <td>0</td>\n",
              "      <td>56.0</td>\n",
              "      <td>SN490</td>\n",
              "      <td>0.84</td>\n",
              "      <td>9</td>\n",
              "      <td>4</td>\n",
              "      <td>0</td>\n",
              "      <td>1</td>\n",
              "      <td>3</td>\n",
              "      <td>250</td>\n",
              "      <td>False</td>\n",
              "    </tr>\n",
              "    <tr>\n",
              "      <th>1</th>\n",
              "      <td>2077-11-23 17:47:54</td>\n",
              "      <td>9128.0</td>\n",
              "      <td>86103.50</td>\n",
              "      <td>False</td>\n",
              "      <td>ALPHABET</td>\n",
              "      <td>Udaipur</td>\n",
              "      <td>0</td>\n",
              "      <td>1090</td>\n",
              "      <td>0.0</td>\n",
              "      <td>0</td>\n",
              "      <td>AL-7396</td>\n",
              "      <td>Trichy</td>\n",
              "      <td>3</td>\n",
              "      <td>139.0</td>\n",
              "      <td>A948</td>\n",
              "      <td>0.89</td>\n",
              "      <td>10</td>\n",
              "      <td>11</td>\n",
              "      <td>0</td>\n",
              "      <td>1</td>\n",
              "      <td>0</td>\n",
              "      <td>600</td>\n",
              "      <td>False</td>\n",
              "    </tr>\n",
              "    <tr>\n",
              "      <th>2</th>\n",
              "      <td>2077-06-05 08:36:29</td>\n",
              "      <td>35866.6</td>\n",
              "      <td>164321.15</td>\n",
              "      <td>False</td>\n",
              "      <td>BANANA</td>\n",
              "      <td>Ahmedabad</td>\n",
              "      <td>5</td>\n",
              "      <td>959</td>\n",
              "      <td>0.0</td>\n",
              "      <td>0</td>\n",
              "      <td>BA-3941</td>\n",
              "      <td>Bengaluru</td>\n",
              "      <td>0</td>\n",
              "      <td>120.0</td>\n",
              "      <td>A948</td>\n",
              "      <td>0.89</td>\n",
              "      <td>1</td>\n",
              "      <td>0</td>\n",
              "      <td>0</td>\n",
              "      <td>3</td>\n",
              "      <td>0</td>\n",
              "      <td>600</td>\n",
              "      <td>False</td>\n",
              "    </tr>\n",
              "    <tr>\n",
              "      <th>3</th>\n",
              "      <td>2077-04-27 14:27:27</td>\n",
              "      <td>31801.0</td>\n",
              "      <td>120228.50</td>\n",
              "      <td>False</td>\n",
              "      <td>AIRAMAZON</td>\n",
              "      <td>Shillong</td>\n",
              "      <td>5</td>\n",
              "      <td>708</td>\n",
              "      <td>0.0</td>\n",
              "      <td>0</td>\n",
              "      <td>AI-9119</td>\n",
              "      <td>Bengaluru</td>\n",
              "      <td>1</td>\n",
              "      <td>63.0</td>\n",
              "      <td>SN490</td>\n",
              "      <td>0.95</td>\n",
              "      <td>1</td>\n",
              "      <td>9</td>\n",
              "      <td>0</td>\n",
              "      <td>0</td>\n",
              "      <td>3</td>\n",
              "      <td>250</td>\n",
              "      <td>False</td>\n",
              "    </tr>\n",
              "    <tr>\n",
              "      <th>4</th>\n",
              "      <td>2077-08-01 05:17:36</td>\n",
              "      <td>74232.9</td>\n",
              "      <td>113713.60</td>\n",
              "      <td>False</td>\n",
              "      <td>VIP</td>\n",
              "      <td>Lucknow</td>\n",
              "      <td>1</td>\n",
              "      <td>1959</td>\n",
              "      <td>0.0</td>\n",
              "      <td>0</td>\n",
              "      <td>VI-5208</td>\n",
              "      <td>Trichy</td>\n",
              "      <td>0</td>\n",
              "      <td>220.0</td>\n",
              "      <td>A960</td>\n",
              "      <td>0.93</td>\n",
              "      <td>10</td>\n",
              "      <td>6</td>\n",
              "      <td>0</td>\n",
              "      <td>9</td>\n",
              "      <td>1</td>\n",
              "      <td>400</td>\n",
              "      <td>False</td>\n",
              "    </tr>\n",
              "  </tbody>\n",
              "</table>\n",
              "</div>"
            ],
            "text/plain": [
              "    Takeoff Date Time  ...  Planes to be changed\n",
              "0 2077-11-28 16:37:01  ...                 False\n",
              "1 2077-11-23 17:47:54  ...                 False\n",
              "2 2077-06-05 08:36:29  ...                 False\n",
              "3 2077-04-27 14:27:27  ...                 False\n",
              "4 2077-08-01 05:17:36  ...                 False\n",
              "\n",
              "[5 rows x 23 columns]"
            ]
          },
          "metadata": {
            "tags": []
          },
          "execution_count": 41
        }
      ]
    },
    {
      "cell_type": "code",
      "metadata": {
        "colab": {
          "base_uri": "https://localhost:8080/",
          "height": 547
        },
        "id": "l3Rx3XwYd66r",
        "outputId": "185bebbd-b085-4af2-8378-b84dd54e9229"
      },
      "source": [
        " \n",
        "month = pd.DatetimeIndex(df['Takeoff Date Time']).month #getting month from the date column\n",
        "year = pd.DatetimeIndex(df['Takeoff Date Time']).year #getting year from the date column\n",
        "hour = pd.DatetimeIndex(df['Takeoff Date Time']).hour #getting hour from the date column\n",
        "print(month.unique()) #printing unique values from the months\n",
        "print(year.unique()) #printing unique values from the years\n",
        "print(hour.unique()) #printing unique values from the hours\n",
        "df['Month of takeoff'] = month #creating month of takeoff containing the values of month\n",
        "df['Hour of takeoff'] = hour #creating hour of takeoff containing the values of hour\n",
        "cols = df.columns.tolist()\n",
        "cols = cols[-1:] + cols[:-1]\n",
        "df = df[cols]\n",
        "cols = df.columns.tolist()\n",
        "cols = cols[-1:] + cols[:-1]\n",
        "df = df[cols]\n",
        "df.head(5)"
      ],
      "execution_count": null,
      "outputs": [
        {
          "output_type": "stream",
          "text": [
            "Int64Index([11, 6, 4, 8, 10, 1, 5, 2, 7, 3, 12, 9], dtype='int64', name='Takeoff Date Time')\n",
            "Int64Index([2077], dtype='int64', name='Takeoff Date Time')\n",
            "Int64Index([16, 17,  8, 14,  5, 23, 18, 22, 15,  3, 10,  2, 19, 11,  7,  1,  9,\n",
            "             6, 13, 20,  0, 21, 12,  4],\n",
            "           dtype='int64', name='Takeoff Date Time')\n"
          ],
          "name": "stdout"
        },
        {
          "output_type": "execute_result",
          "data": {
            "text/html": [
              "<div>\n",
              "<style scoped>\n",
              "    .dataframe tbody tr th:only-of-type {\n",
              "        vertical-align: middle;\n",
              "    }\n",
              "\n",
              "    .dataframe tbody tr th {\n",
              "        vertical-align: top;\n",
              "    }\n",
              "\n",
              "    .dataframe thead th {\n",
              "        text-align: right;\n",
              "    }\n",
              "</style>\n",
              "<table border=\"1\" class=\"dataframe\">\n",
              "  <thead>\n",
              "    <tr style=\"text-align: right;\">\n",
              "      <th></th>\n",
              "      <th>Month of takeoff</th>\n",
              "      <th>Hour of takeoff</th>\n",
              "      <th>Takeoff Date Time</th>\n",
              "      <th>Average Ticket Price (Economy Class)</th>\n",
              "      <th>Average Ticket Price (Premium Class)</th>\n",
              "      <th>Cancelled</th>\n",
              "      <th>Carrier</th>\n",
              "      <th>Origin</th>\n",
              "      <th>Origin Weather</th>\n",
              "      <th>Distance (Miles)</th>\n",
              "      <th>Flight Delay</th>\n",
              "      <th>Flight Delay (Min)</th>\n",
              "      <th>Flight Number</th>\n",
              "      <th>Destination</th>\n",
              "      <th>Destination Weather</th>\n",
              "      <th>Total Flight Time (mins)</th>\n",
              "      <th>Plane Type</th>\n",
              "      <th>Occupancy Rate</th>\n",
              "      <th>Destination encoded</th>\n",
              "      <th>Origin encoded</th>\n",
              "      <th>Cancelled encoded</th>\n",
              "      <th>Carrier encoded</th>\n",
              "      <th>Plane Type encoded</th>\n",
              "      <th>number of seats</th>\n",
              "      <th>Planes to be changed</th>\n",
              "    </tr>\n",
              "  </thead>\n",
              "  <tbody>\n",
              "    <tr>\n",
              "      <th>0</th>\n",
              "      <td>11</td>\n",
              "      <td>16</td>\n",
              "      <td>2077-11-28 16:37:01</td>\n",
              "      <td>30992.5</td>\n",
              "      <td>137060.00</td>\n",
              "      <td>False</td>\n",
              "      <td>ALPHABET</td>\n",
              "      <td>Kolkata</td>\n",
              "      <td>4</td>\n",
              "      <td>559</td>\n",
              "      <td>0.0</td>\n",
              "      <td>0</td>\n",
              "      <td>AL-9002</td>\n",
              "      <td>Shillong</td>\n",
              "      <td>0</td>\n",
              "      <td>56.0</td>\n",
              "      <td>SN490</td>\n",
              "      <td>0.84</td>\n",
              "      <td>9</td>\n",
              "      <td>4</td>\n",
              "      <td>0</td>\n",
              "      <td>1</td>\n",
              "      <td>3</td>\n",
              "      <td>250</td>\n",
              "      <td>False</td>\n",
              "    </tr>\n",
              "    <tr>\n",
              "      <th>1</th>\n",
              "      <td>11</td>\n",
              "      <td>17</td>\n",
              "      <td>2077-11-23 17:47:54</td>\n",
              "      <td>9128.0</td>\n",
              "      <td>86103.50</td>\n",
              "      <td>False</td>\n",
              "      <td>ALPHABET</td>\n",
              "      <td>Udaipur</td>\n",
              "      <td>0</td>\n",
              "      <td>1090</td>\n",
              "      <td>0.0</td>\n",
              "      <td>0</td>\n",
              "      <td>AL-7396</td>\n",
              "      <td>Trichy</td>\n",
              "      <td>3</td>\n",
              "      <td>139.0</td>\n",
              "      <td>A948</td>\n",
              "      <td>0.89</td>\n",
              "      <td>10</td>\n",
              "      <td>11</td>\n",
              "      <td>0</td>\n",
              "      <td>1</td>\n",
              "      <td>0</td>\n",
              "      <td>600</td>\n",
              "      <td>False</td>\n",
              "    </tr>\n",
              "    <tr>\n",
              "      <th>2</th>\n",
              "      <td>6</td>\n",
              "      <td>8</td>\n",
              "      <td>2077-06-05 08:36:29</td>\n",
              "      <td>35866.6</td>\n",
              "      <td>164321.15</td>\n",
              "      <td>False</td>\n",
              "      <td>BANANA</td>\n",
              "      <td>Ahmedabad</td>\n",
              "      <td>5</td>\n",
              "      <td>959</td>\n",
              "      <td>0.0</td>\n",
              "      <td>0</td>\n",
              "      <td>BA-3941</td>\n",
              "      <td>Bengaluru</td>\n",
              "      <td>0</td>\n",
              "      <td>120.0</td>\n",
              "      <td>A948</td>\n",
              "      <td>0.89</td>\n",
              "      <td>1</td>\n",
              "      <td>0</td>\n",
              "      <td>0</td>\n",
              "      <td>3</td>\n",
              "      <td>0</td>\n",
              "      <td>600</td>\n",
              "      <td>False</td>\n",
              "    </tr>\n",
              "    <tr>\n",
              "      <th>3</th>\n",
              "      <td>4</td>\n",
              "      <td>14</td>\n",
              "      <td>2077-04-27 14:27:27</td>\n",
              "      <td>31801.0</td>\n",
              "      <td>120228.50</td>\n",
              "      <td>False</td>\n",
              "      <td>AIRAMAZON</td>\n",
              "      <td>Shillong</td>\n",
              "      <td>5</td>\n",
              "      <td>708</td>\n",
              "      <td>0.0</td>\n",
              "      <td>0</td>\n",
              "      <td>AI-9119</td>\n",
              "      <td>Bengaluru</td>\n",
              "      <td>1</td>\n",
              "      <td>63.0</td>\n",
              "      <td>SN490</td>\n",
              "      <td>0.95</td>\n",
              "      <td>1</td>\n",
              "      <td>9</td>\n",
              "      <td>0</td>\n",
              "      <td>0</td>\n",
              "      <td>3</td>\n",
              "      <td>250</td>\n",
              "      <td>False</td>\n",
              "    </tr>\n",
              "    <tr>\n",
              "      <th>4</th>\n",
              "      <td>8</td>\n",
              "      <td>5</td>\n",
              "      <td>2077-08-01 05:17:36</td>\n",
              "      <td>74232.9</td>\n",
              "      <td>113713.60</td>\n",
              "      <td>False</td>\n",
              "      <td>VIP</td>\n",
              "      <td>Lucknow</td>\n",
              "      <td>1</td>\n",
              "      <td>1959</td>\n",
              "      <td>0.0</td>\n",
              "      <td>0</td>\n",
              "      <td>VI-5208</td>\n",
              "      <td>Trichy</td>\n",
              "      <td>0</td>\n",
              "      <td>220.0</td>\n",
              "      <td>A960</td>\n",
              "      <td>0.93</td>\n",
              "      <td>10</td>\n",
              "      <td>6</td>\n",
              "      <td>0</td>\n",
              "      <td>9</td>\n",
              "      <td>1</td>\n",
              "      <td>400</td>\n",
              "      <td>False</td>\n",
              "    </tr>\n",
              "  </tbody>\n",
              "</table>\n",
              "</div>"
            ],
            "text/plain": [
              "   Month of takeoff  Hour of takeoff  ... number of seats  Planes to be changed\n",
              "0                11               16  ...             250                 False\n",
              "1                11               17  ...             600                 False\n",
              "2                 6                8  ...             600                 False\n",
              "3                 4               14  ...             250                 False\n",
              "4                 8                5  ...             400                 False\n",
              "\n",
              "[5 rows x 25 columns]"
            ]
          },
          "metadata": {
            "tags": []
          },
          "execution_count": 42
        }
      ]
    },
    {
      "cell_type": "code",
      "metadata": {
        "colab": {
          "base_uri": "https://localhost:8080/"
        },
        "id": "KUEchwEUJiaX",
        "outputId": "2e96bf6b-858e-42da-9e9f-1dff88799cbf"
      },
      "source": [
        "df_grouped = df.groupby('Carrier')\n",
        "df_grouped.get_group('ALPHABET')['Average Ticket Price (Premium Class)']"
      ],
      "execution_count": null,
      "outputs": [
        {
          "output_type": "execute_result",
          "data": {
            "text/plain": [
              "0       137060.00\n",
              "1        86103.50\n",
              "6        77486.50\n",
              "19      112707.00\n",
              "29       74179.00\n",
              "          ...    \n",
              "9957    135380.00\n",
              "9963     97660.50\n",
              "9983    121649.50\n",
              "9992    165191.25\n",
              "9993    135243.50\n",
              "Name: Average Ticket Price (Premium Class), Length: 961, dtype: float64"
            ]
          },
          "metadata": {
            "tags": []
          },
          "execution_count": 43
        }
      ]
    },
    {
      "cell_type": "code",
      "metadata": {
        "colab": {
          "base_uri": "https://localhost:8080/"
        },
        "id": "3RbdMQMRehCn",
        "outputId": "ec2847d4-e11f-4601-8cb5-f2db94933f6f"
      },
      "source": [
        "prices_of_premium_class = df['Average Ticket Price (Premium Class)']\n",
        "prices_of_economy_class = df['Average Ticket Price (Economy Class)']\n",
        "x = df[['Month of takeoff','Hour of takeoff','Origin Weather','Distance (Miles)','Flight Delay','Destination Weather','Total Flight Time (mins)','Occupancy Rate','Destination encoded','Origin encoded','Cancelled encoded','Carrier encoded','Plane Type encoded','number of seats']]\n",
        "lr1 = LinearRegression()\n",
        "lr1.fit(x,prices_of_economy_class)\n",
        "prices_of_economy_class_pred = lr1.predict(x)\n",
        "lr2 = LinearRegression()\n",
        "lr2.fit(x,prices_of_premium_class)\n",
        "prices_of_premium_class_pred = lr2.predict(x)\n",
        "lr2.score(x,prices_of_premium_class)"
      ],
      "execution_count": null,
      "outputs": [
        {
          "output_type": "execute_result",
          "data": {
            "text/plain": [
              "0.0024732099038591304"
            ]
          },
          "metadata": {
            "tags": []
          },
          "execution_count": 44
        }
      ]
    },
    {
      "cell_type": "code",
      "metadata": {
        "colab": {
          "base_uri": "https://localhost:8080/"
        },
        "id": "D_v-6e9aZ5Db",
        "outputId": "56cc9d04-a364-49c5-efae-e51995b3eba8"
      },
      "source": [
        "prices_of_premium_class_alphabet = df_grouped.get_group('ALPHABET')['Average Ticket Price (Premium Class)']\n",
        "prices_of_economy_class_alphabet = df_grouped.get_group('ALPHABET')['Average Ticket Price (Economy Class)']\n",
        "x = df_grouped.get_group('ALPHABET')[['Month of takeoff','Hour of takeoff','Origin Weather','Distance (Miles)','Flight Delay','Destination Weather','Total Flight Time (mins)','Occupancy Rate','Destination encoded','Origin encoded','Cancelled encoded','Carrier encoded','Plane Type encoded','number of seats']]\n",
        "lr1 = LinearRegression()\n",
        "lr1.fit(x,prices_of_economy_class_alphabet)\n",
        "prices_of_economy_class_alphabet_pred = lr1.predict(x)\n",
        "lr2 = LinearRegression()\n",
        "lr2.fit(x,prices_of_premium_class_alphabet)\n",
        "prices_of_premium_class_alphabet_pred = lr2.predict(x)\n",
        "lr2.score(x,prices_of_premium_class_alphabet)"
      ],
      "execution_count": null,
      "outputs": [
        {
          "output_type": "execute_result",
          "data": {
            "text/plain": [
              "0.02075810571075798"
            ]
          },
          "metadata": {
            "tags": []
          },
          "execution_count": 45
        }
      ]
    },
    {
      "cell_type": "code",
      "metadata": {
        "id": "O4_YwPTaba8y"
      },
      "source": [
        ""
      ],
      "execution_count": null,
      "outputs": []
    },
    {
      "cell_type": "code",
      "metadata": {
        "colab": {
          "base_uri": "https://localhost:8080/"
        },
        "id": "j2XUsU8qdSd0",
        "outputId": "eec46f68-7b88-4cc9-f0ea-46f00ab2ced7"
      },
      "source": [
        "prices_of_premium_class_alphabet"
      ],
      "execution_count": null,
      "outputs": [
        {
          "output_type": "execute_result",
          "data": {
            "text/plain": [
              "0       137060.00\n",
              "1        86103.50\n",
              "6        77486.50\n",
              "19      112707.00\n",
              "29       74179.00\n",
              "          ...    \n",
              "9957    135380.00\n",
              "9963     97660.50\n",
              "9983    121649.50\n",
              "9992    165191.25\n",
              "9993    135243.50\n",
              "Name: Average Ticket Price (Premium Class), Length: 961, dtype: float64"
            ]
          },
          "metadata": {
            "tags": []
          },
          "execution_count": 46
        }
      ]
    },
    {
      "cell_type": "code",
      "metadata": {
        "colab": {
          "base_uri": "https://localhost:8080/",
          "height": 350
        },
        "id": "kywwf604i-pj",
        "outputId": "da3e1891-a34c-44b3-bfa7-ba474119667c"
      },
      "source": [
        "sns.scatterplot(prices_of_economy_class_alphabet, prices_of_economy_class_alphabet_pred)"
      ],
      "execution_count": null,
      "outputs": [
        {
          "output_type": "stream",
          "text": [
            "/usr/local/lib/python3.6/dist-packages/seaborn/_decorators.py:43: FutureWarning: Pass the following variables as keyword args: x, y. From version 0.12, the only valid positional argument will be `data`, and passing other arguments without an explicit keyword will result in an error or misinterpretation.\n",
            "  FutureWarning\n"
          ],
          "name": "stderr"
        },
        {
          "output_type": "execute_result",
          "data": {
            "text/plain": [
              "<matplotlib.axes._subplots.AxesSubplot at 0x7f207456da20>"
            ]
          },
          "metadata": {
            "tags": []
          },
          "execution_count": 47
        },
        {
          "output_type": "display_data",
          "data": {
            "image/png": "[encoded data removed]",
            "text/plain": [
              "<Figure size 432x288 with 1 Axes>"
            ]
          },
          "metadata": {
            "tags": [],
            "needs_background": "light"
          }
        }
      ]
    },
    {
      "cell_type": "code",
      "metadata": {
        "colab": {
          "base_uri": "https://localhost:8080/",
          "height": 202
        },
        "id": "D0DkiokqpC7h",
        "outputId": "14aa3f1e-f814-4482-ee3e-1fe48ea392a5"
      },
      "source": [
        "df.head(1)"
      ],
      "execution_count": null,
      "outputs": [
        {
          "output_type": "execute_result",
          "data": {
            "text/html": [
              "<div>\n",
              "<style scoped>\n",
              "    .dataframe tbody tr th:only-of-type {\n",
              "        vertical-align: middle;\n",
              "    }\n",
              "\n",
              "    .dataframe tbody tr th {\n",
              "        vertical-align: top;\n",
              "    }\n",
              "\n",
              "    .dataframe thead th {\n",
              "        text-align: right;\n",
              "    }\n",
              "</style>\n",
              "<table border=\"1\" class=\"dataframe\">\n",
              "  <thead>\n",
              "    <tr style=\"text-align: right;\">\n",
              "      <th></th>\n",
              "      <th>Month of takeoff</th>\n",
              "      <th>Hour of takeoff</th>\n",
              "      <th>Takeoff Date Time</th>\n",
              "      <th>Average Ticket Price (Economy Class)</th>\n",
              "      <th>Average Ticket Price (Premium Class)</th>\n",
              "      <th>Cancelled</th>\n",
              "      <th>Carrier</th>\n",
              "      <th>Origin</th>\n",
              "      <th>Origin Weather</th>\n",
              "      <th>Distance (Miles)</th>\n",
              "      <th>Flight Delay</th>\n",
              "      <th>Flight Delay (Min)</th>\n",
              "      <th>Flight Number</th>\n",
              "      <th>Destination</th>\n",
              "      <th>Destination Weather</th>\n",
              "      <th>Total Flight Time (mins)</th>\n",
              "      <th>Plane Type</th>\n",
              "      <th>Occupancy Rate</th>\n",
              "      <th>Destination encoded</th>\n",
              "      <th>Origin encoded</th>\n",
              "      <th>Cancelled encoded</th>\n",
              "      <th>Carrier encoded</th>\n",
              "      <th>Plane Type encoded</th>\n",
              "      <th>number of seats</th>\n",
              "      <th>Planes to be changed</th>\n",
              "    </tr>\n",
              "  </thead>\n",
              "  <tbody>\n",
              "    <tr>\n",
              "      <th>0</th>\n",
              "      <td>11</td>\n",
              "      <td>16</td>\n",
              "      <td>2077-11-28 16:37:01</td>\n",
              "      <td>30992.5</td>\n",
              "      <td>137060.0</td>\n",
              "      <td>False</td>\n",
              "      <td>ALPHABET</td>\n",
              "      <td>Kolkata</td>\n",
              "      <td>4</td>\n",
              "      <td>559</td>\n",
              "      <td>0.0</td>\n",
              "      <td>0</td>\n",
              "      <td>AL-9002</td>\n",
              "      <td>Shillong</td>\n",
              "      <td>0</td>\n",
              "      <td>56.0</td>\n",
              "      <td>SN490</td>\n",
              "      <td>0.84</td>\n",
              "      <td>9</td>\n",
              "      <td>4</td>\n",
              "      <td>0</td>\n",
              "      <td>1</td>\n",
              "      <td>3</td>\n",
              "      <td>250</td>\n",
              "      <td>False</td>\n",
              "    </tr>\n",
              "  </tbody>\n",
              "</table>\n",
              "</div>"
            ],
            "text/plain": [
              "   Month of takeoff  Hour of takeoff  ... number of seats  Planes to be changed\n",
              "0                11               16  ...             250                 False\n",
              "\n",
              "[1 rows x 25 columns]"
            ]
          },
          "metadata": {
            "tags": []
          },
          "execution_count": 49
        }
      ]
    },
    {
      "cell_type": "code",
      "metadata": {
        "id": "m7ALXjALkmO8",
        "colab": {
          "base_uri": "https://localhost:8080/"
        },
        "outputId": "7e38dbeb-6dcb-49f5-88b0-74c85c4d4ec0"
      },
      "source": [
        "df['Routes'] = df['Origin'] + \" \" +df['Destination']\n",
        "df['Routes encoded']=label_encoder.fit_transform(df['Routes'])\n",
        "df_grouped_by_routes = df.groupby('Routes encoded')\n",
        "prices_of_premium_class_Route1 = df_grouped_by_routes.get_group(1)['Average Ticket Price (Premium Class)']\n",
        "x = df_grouped_by_routes.get_group(1)[['Month of takeoff','Hour of takeoff','Origin Weather','Distance (Miles)','Destination Weather','Carrier encoded','Plane Type encoded']]\n",
        "lr_routes = LinearRegression()\n",
        "lr_routes.fit(x,prices_of_premium_class_Route1)\n",
        "prices_of_premium_class_Route1_pred = lr_routes.predict(x)\n",
        "lr_routes.score(x,prices_of_premium_class_Route1)"
      ],
      "execution_count": null,
      "outputs": [
        {
          "output_type": "execute_result",
          "data": {
            "text/plain": [
              "0.09684347092614076"
            ]
          },
          "metadata": {
            "tags": []
          },
          "execution_count": 55
        }
      ]
    },
    {
      "cell_type": "code",
      "metadata": {
        "id": "WNgemedDaVdt",
        "colab": {
          "base_uri": "https://localhost:8080/",
          "height": 336
        },
        "outputId": "415e2e39-3d72-42aa-ae8e-d7f9f99b7fee"
      },
      "source": [
        "sns.scatterplot(prices_of_premium_class_Route1_pred,df_grouped_by_routes.get_group(1)['Average Ticket Price (Premium Class)'])"
      ],
      "execution_count": null,
      "outputs": [
        {
          "output_type": "stream",
          "text": [
            "/usr/local/lib/python3.6/dist-packages/seaborn/_decorators.py:43: FutureWarning: Pass the following variables as keyword args: x, y. From version 0.12, the only valid positional argument will be `data`, and passing other arguments without an explicit keyword will result in an error or misinterpretation.\n",
            "  FutureWarning\n"
          ],
          "name": "stderr"
        },
        {
          "output_type": "execute_result",
          "data": {
            "text/plain": [
              "<matplotlib.axes._subplots.AxesSubplot at 0x7f206064a1d0>"
            ]
          },
          "metadata": {
            "tags": []
          },
          "execution_count": 56
        },
        {
          "output_type": "display_data",
          "data": {
            "image/png": "[encoded data removed]",
            "text/plain": [
              "<Figure size 432x288 with 1 Axes>"
            ]
          },
          "metadata": {
            "tags": [],
            "needs_background": "light"
          }
        }
      ]
    },
    {
      "cell_type": "code",
      "metadata": {
        "id": "fMiVgohxgCNG",
        "colab": {
          "base_uri": "https://localhost:8080/",
          "height": 450
        },
        "outputId": "441fe7be-a6ec-40d4-ca70-a6415f827a8e"
      },
      "source": [
        "aloo_lelo = pd.DataFrame(prices_of_premium_class_Route1_pred,df_grouped_by_routes.get_group(1)['Average Ticket Price (Premium Class)'])\n",
        "aloo_lelo"
      ],
      "execution_count": null,
      "outputs": [
        {
          "output_type": "execute_result",
          "data": {
            "text/html": [
              "<div>\n",
              "<style scoped>\n",
              "    .dataframe tbody tr th:only-of-type {\n",
              "        vertical-align: middle;\n",
              "    }\n",
              "\n",
              "    .dataframe tbody tr th {\n",
              "        vertical-align: top;\n",
              "    }\n",
              "\n",
              "    .dataframe thead th {\n",
              "        text-align: right;\n",
              "    }\n",
              "</style>\n",
              "<table border=\"1\" class=\"dataframe\">\n",
              "  <thead>\n",
              "    <tr style=\"text-align: right;\">\n",
              "      <th></th>\n",
              "      <th>0</th>\n",
              "    </tr>\n",
              "    <tr>\n",
              "      <th>Average Ticket Price (Premium Class)</th>\n",
              "      <th></th>\n",
              "    </tr>\n",
              "  </thead>\n",
              "  <tbody>\n",
              "    <tr>\n",
              "      <th>125072.50</th>\n",
              "      <td>119072.392393</td>\n",
              "    </tr>\n",
              "    <tr>\n",
              "      <th>136426.50</th>\n",
              "      <td>112081.778634</td>\n",
              "    </tr>\n",
              "    <tr>\n",
              "      <th>202042.40</th>\n",
              "      <td>122893.432544</td>\n",
              "    </tr>\n",
              "    <tr>\n",
              "      <th>110985.00</th>\n",
              "      <td>120201.099134</td>\n",
              "    </tr>\n",
              "    <tr>\n",
              "      <th>224963.55</th>\n",
              "      <td>123524.187889</td>\n",
              "    </tr>\n",
              "    <tr>\n",
              "      <th>...</th>\n",
              "      <td>...</td>\n",
              "    </tr>\n",
              "    <tr>\n",
              "      <th>57302.00</th>\n",
              "      <td>99192.387064</td>\n",
              "    </tr>\n",
              "    <tr>\n",
              "      <th>113487.50</th>\n",
              "      <td>111700.192277</td>\n",
              "    </tr>\n",
              "    <tr>\n",
              "      <th>71081.50</th>\n",
              "      <td>95561.912645</td>\n",
              "    </tr>\n",
              "    <tr>\n",
              "      <th>133791.00</th>\n",
              "      <td>125432.557195</td>\n",
              "    </tr>\n",
              "    <tr>\n",
              "      <th>153034.70</th>\n",
              "      <td>125640.031821</td>\n",
              "    </tr>\n",
              "  </tbody>\n",
              "</table>\n",
              "<p>63 rows × 1 columns</p>\n",
              "</div>"
            ],
            "text/plain": [
              "                                                  0\n",
              "Average Ticket Price (Premium Class)               \n",
              "125072.50                             119072.392393\n",
              "136426.50                             112081.778634\n",
              "202042.40                             122893.432544\n",
              "110985.00                             120201.099134\n",
              "224963.55                             123524.187889\n",
              "...                                             ...\n",
              "57302.00                               99192.387064\n",
              "113487.50                             111700.192277\n",
              "71081.50                               95561.912645\n",
              "133791.00                             125432.557195\n",
              "153034.70                             125640.031821\n",
              "\n",
              "[63 rows x 1 columns]"
            ]
          },
          "metadata": {
            "tags": []
          },
          "execution_count": 60
        }
      ]
    },
    {
      "cell_type": "code",
      "metadata": {
        "id": "oQiUtZTZg-Dg"
      },
      "source": [
        ""
      ],
      "execution_count": null,
      "outputs": []
    }
  ]
}